{
  "nbformat": 4,
  "nbformat_minor": 0,
  "metadata": {
    "colab": {
      "provenance": [],
      "collapsed_sections": [
        "xP-sp-vS1RTZ",
        "rV1Lfw2v1dCe"
      ],
      "toc_visible": true
    },
    "kernelspec": {
      "name": "python3",
      "display_name": "Python 3"
    },
    "language_info": {
      "name": "python"
    },
    "accelerator": "GPU",
    "widgets": {
      "application/vnd.jupyter.widget-state+json": {
        "07f2edbcf0784f8ab61bebfc7e098d1e": {
          "model_module": "@jupyter-widgets/controls",
          "model_name": "HBoxModel",
          "model_module_version": "1.5.0",
          "state": {
            "_view_name": "HBoxView",
            "_dom_classes": [],
            "_model_name": "HBoxModel",
            "_view_module": "@jupyter-widgets/controls",
            "_model_module_version": "1.5.0",
            "_view_count": null,
            "_view_module_version": "1.5.0",
            "box_style": "",
            "layout": "IPY_MODEL_9649517583dd464f97c3ede34e8568c8",
            "_model_module": "@jupyter-widgets/controls",
            "children": [
              "IPY_MODEL_95fe4b1ea35c4c209f91fbdae60822e6",
              "IPY_MODEL_93388d32c9f4486c95b020576a40d429",
              "IPY_MODEL_7498589128ca443eba96b27a0a25a850"
            ]
          }
        },
        "9649517583dd464f97c3ede34e8568c8": {
          "model_module": "@jupyter-widgets/base",
          "model_name": "LayoutModel",
          "model_module_version": "1.2.0",
          "state": {
            "_view_name": "LayoutView",
            "grid_template_rows": null,
            "right": null,
            "justify_content": null,
            "_view_module": "@jupyter-widgets/base",
            "overflow": null,
            "_model_module_version": "1.2.0",
            "_view_count": null,
            "flex_flow": null,
            "width": null,
            "min_width": null,
            "border": null,
            "align_items": null,
            "bottom": null,
            "_model_module": "@jupyter-widgets/base",
            "top": null,
            "grid_column": null,
            "overflow_y": null,
            "overflow_x": null,
            "grid_auto_flow": null,
            "grid_area": null,
            "grid_template_columns": null,
            "flex": null,
            "_model_name": "LayoutModel",
            "justify_items": null,
            "grid_row": null,
            "max_height": null,
            "align_content": null,
            "visibility": null,
            "align_self": null,
            "height": null,
            "min_height": null,
            "padding": null,
            "grid_auto_rows": null,
            "grid_gap": null,
            "max_width": null,
            "order": null,
            "_view_module_version": "1.2.0",
            "grid_template_areas": null,
            "object_position": null,
            "object_fit": null,
            "grid_auto_columns": null,
            "margin": null,
            "display": null,
            "left": null
          }
        },
        "95fe4b1ea35c4c209f91fbdae60822e6": {
          "model_module": "@jupyter-widgets/controls",
          "model_name": "HTMLModel",
          "model_module_version": "1.5.0",
          "state": {
            "_view_name": "HTMLView",
            "style": "IPY_MODEL_0caf19f3de1f460980e7183f59eb6382",
            "_dom_classes": [],
            "description": "",
            "_model_name": "HTMLModel",
            "placeholder": "​",
            "_view_module": "@jupyter-widgets/controls",
            "_model_module_version": "1.5.0",
            "value": "Downloading: 100%",
            "_view_count": null,
            "_view_module_version": "1.5.0",
            "description_tooltip": null,
            "_model_module": "@jupyter-widgets/controls",
            "layout": "IPY_MODEL_853a6f5865e2462080748e6ceb908f71"
          }
        },
        "93388d32c9f4486c95b020576a40d429": {
          "model_module": "@jupyter-widgets/controls",
          "model_name": "FloatProgressModel",
          "model_module_version": "1.5.0",
          "state": {
            "_view_name": "ProgressView",
            "style": "IPY_MODEL_a5b44999da6941d9882a131901b481d6",
            "_dom_classes": [],
            "description": "",
            "_model_name": "FloatProgressModel",
            "bar_style": "success",
            "max": 557,
            "_view_module": "@jupyter-widgets/controls",
            "_model_module_version": "1.5.0",
            "value": 557,
            "_view_count": null,
            "_view_module_version": "1.5.0",
            "orientation": "horizontal",
            "min": 0,
            "description_tooltip": null,
            "_model_module": "@jupyter-widgets/controls",
            "layout": "IPY_MODEL_14edfa91872643bc995863c3a2f73a6c"
          }
        },
        "7498589128ca443eba96b27a0a25a850": {
          "model_module": "@jupyter-widgets/controls",
          "model_name": "HTMLModel",
          "model_module_version": "1.5.0",
          "state": {
            "_view_name": "HTMLView",
            "style": "IPY_MODEL_ceacb0850d434f1ab546c14b63c8861d",
            "_dom_classes": [],
            "description": "",
            "_model_name": "HTMLModel",
            "placeholder": "​",
            "_view_module": "@jupyter-widgets/controls",
            "_model_module_version": "1.5.0",
            "value": " 557/557 [00:00&lt;00:00, 12.7kB/s]",
            "_view_count": null,
            "_view_module_version": "1.5.0",
            "description_tooltip": null,
            "_model_module": "@jupyter-widgets/controls",
            "layout": "IPY_MODEL_efdf8c4e1c9a47feaaa4094d44b8d46c"
          }
        },
        "0caf19f3de1f460980e7183f59eb6382": {
          "model_module": "@jupyter-widgets/controls",
          "model_name": "DescriptionStyleModel",
          "model_module_version": "1.5.0",
          "state": {
            "_view_name": "StyleView",
            "_model_name": "DescriptionStyleModel",
            "description_width": "",
            "_view_module": "@jupyter-widgets/base",
            "_model_module_version": "1.5.0",
            "_view_count": null,
            "_view_module_version": "1.2.0",
            "_model_module": "@jupyter-widgets/controls"
          }
        },
        "853a6f5865e2462080748e6ceb908f71": {
          "model_module": "@jupyter-widgets/base",
          "model_name": "LayoutModel",
          "model_module_version": "1.2.0",
          "state": {
            "_view_name": "LayoutView",
            "grid_template_rows": null,
            "right": null,
            "justify_content": null,
            "_view_module": "@jupyter-widgets/base",
            "overflow": null,
            "_model_module_version": "1.2.0",
            "_view_count": null,
            "flex_flow": null,
            "width": null,
            "min_width": null,
            "border": null,
            "align_items": null,
            "bottom": null,
            "_model_module": "@jupyter-widgets/base",
            "top": null,
            "grid_column": null,
            "overflow_y": null,
            "overflow_x": null,
            "grid_auto_flow": null,
            "grid_area": null,
            "grid_template_columns": null,
            "flex": null,
            "_model_name": "LayoutModel",
            "justify_items": null,
            "grid_row": null,
            "max_height": null,
            "align_content": null,
            "visibility": null,
            "align_self": null,
            "height": null,
            "min_height": null,
            "padding": null,
            "grid_auto_rows": null,
            "grid_gap": null,
            "max_width": null,
            "order": null,
            "_view_module_version": "1.2.0",
            "grid_template_areas": null,
            "object_position": null,
            "object_fit": null,
            "grid_auto_columns": null,
            "margin": null,
            "display": null,
            "left": null
          }
        },
        "a5b44999da6941d9882a131901b481d6": {
          "model_module": "@jupyter-widgets/controls",
          "model_name": "ProgressStyleModel",
          "model_module_version": "1.5.0",
          "state": {
            "_view_name": "StyleView",
            "_model_name": "ProgressStyleModel",
            "description_width": "",
            "_view_module": "@jupyter-widgets/base",
            "_model_module_version": "1.5.0",
            "_view_count": null,
            "_view_module_version": "1.2.0",
            "bar_color": null,
            "_model_module": "@jupyter-widgets/controls"
          }
        },
        "14edfa91872643bc995863c3a2f73a6c": {
          "model_module": "@jupyter-widgets/base",
          "model_name": "LayoutModel",
          "model_module_version": "1.2.0",
          "state": {
            "_view_name": "LayoutView",
            "grid_template_rows": null,
            "right": null,
            "justify_content": null,
            "_view_module": "@jupyter-widgets/base",
            "overflow": null,
            "_model_module_version": "1.2.0",
            "_view_count": null,
            "flex_flow": null,
            "width": null,
            "min_width": null,
            "border": null,
            "align_items": null,
            "bottom": null,
            "_model_module": "@jupyter-widgets/base",
            "top": null,
            "grid_column": null,
            "overflow_y": null,
            "overflow_x": null,
            "grid_auto_flow": null,
            "grid_area": null,
            "grid_template_columns": null,
            "flex": null,
            "_model_name": "LayoutModel",
            "justify_items": null,
            "grid_row": null,
            "max_height": null,
            "align_content": null,
            "visibility": null,
            "align_self": null,
            "height": null,
            "min_height": null,
            "padding": null,
            "grid_auto_rows": null,
            "grid_gap": null,
            "max_width": null,
            "order": null,
            "_view_module_version": "1.2.0",
            "grid_template_areas": null,
            "object_position": null,
            "object_fit": null,
            "grid_auto_columns": null,
            "margin": null,
            "display": null,
            "left": null
          }
        },
        "ceacb0850d434f1ab546c14b63c8861d": {
          "model_module": "@jupyter-widgets/controls",
          "model_name": "DescriptionStyleModel",
          "model_module_version": "1.5.0",
          "state": {
            "_view_name": "StyleView",
            "_model_name": "DescriptionStyleModel",
            "description_width": "",
            "_view_module": "@jupyter-widgets/base",
            "_model_module_version": "1.5.0",
            "_view_count": null,
            "_view_module_version": "1.2.0",
            "_model_module": "@jupyter-widgets/controls"
          }
        },
        "efdf8c4e1c9a47feaaa4094d44b8d46c": {
          "model_module": "@jupyter-widgets/base",
          "model_name": "LayoutModel",
          "model_module_version": "1.2.0",
          "state": {
            "_view_name": "LayoutView",
            "grid_template_rows": null,
            "right": null,
            "justify_content": null,
            "_view_module": "@jupyter-widgets/base",
            "overflow": null,
            "_model_module_version": "1.2.0",
            "_view_count": null,
            "flex_flow": null,
            "width": null,
            "min_width": null,
            "border": null,
            "align_items": null,
            "bottom": null,
            "_model_module": "@jupyter-widgets/base",
            "top": null,
            "grid_column": null,
            "overflow_y": null,
            "overflow_x": null,
            "grid_auto_flow": null,
            "grid_area": null,
            "grid_template_columns": null,
            "flex": null,
            "_model_name": "LayoutModel",
            "justify_items": null,
            "grid_row": null,
            "max_height": null,
            "align_content": null,
            "visibility": null,
            "align_self": null,
            "height": null,
            "min_height": null,
            "padding": null,
            "grid_auto_rows": null,
            "grid_gap": null,
            "max_width": null,
            "order": null,
            "_view_module_version": "1.2.0",
            "grid_template_areas": null,
            "object_position": null,
            "object_fit": null,
            "grid_auto_columns": null,
            "margin": null,
            "display": null,
            "left": null
          }
        },
        "8f3e0b512e4f43ffa4e0258686f7acf8": {
          "model_module": "@jupyter-widgets/controls",
          "model_name": "HBoxModel",
          "model_module_version": "1.5.0",
          "state": {
            "_view_name": "HBoxView",
            "_dom_classes": [],
            "_model_name": "HBoxModel",
            "_view_module": "@jupyter-widgets/controls",
            "_model_module_version": "1.5.0",
            "_view_count": null,
            "_view_module_version": "1.5.0",
            "box_style": "",
            "layout": "IPY_MODEL_cf71bcb0cffc4c4c8237b02e9380cf7c",
            "_model_module": "@jupyter-widgets/controls",
            "children": [
              "IPY_MODEL_db8645e867a742f4bd5d816ca6356a05",
              "IPY_MODEL_b27490125c6a447b9e3ea0788cc0e943",
              "IPY_MODEL_65cfe0c68b5844009723ad003c153f24"
            ]
          }
        },
        "cf71bcb0cffc4c4c8237b02e9380cf7c": {
          "model_module": "@jupyter-widgets/base",
          "model_name": "LayoutModel",
          "model_module_version": "1.2.0",
          "state": {
            "_view_name": "LayoutView",
            "grid_template_rows": null,
            "right": null,
            "justify_content": null,
            "_view_module": "@jupyter-widgets/base",
            "overflow": null,
            "_model_module_version": "1.2.0",
            "_view_count": null,
            "flex_flow": null,
            "width": null,
            "min_width": null,
            "border": null,
            "align_items": null,
            "bottom": null,
            "_model_module": "@jupyter-widgets/base",
            "top": null,
            "grid_column": null,
            "overflow_y": null,
            "overflow_x": null,
            "grid_auto_flow": null,
            "grid_area": null,
            "grid_template_columns": null,
            "flex": null,
            "_model_name": "LayoutModel",
            "justify_items": null,
            "grid_row": null,
            "max_height": null,
            "align_content": null,
            "visibility": null,
            "align_self": null,
            "height": null,
            "min_height": null,
            "padding": null,
            "grid_auto_rows": null,
            "grid_gap": null,
            "max_width": null,
            "order": null,
            "_view_module_version": "1.2.0",
            "grid_template_areas": null,
            "object_position": null,
            "object_fit": null,
            "grid_auto_columns": null,
            "margin": null,
            "display": null,
            "left": null
          }
        },
        "db8645e867a742f4bd5d816ca6356a05": {
          "model_module": "@jupyter-widgets/controls",
          "model_name": "HTMLModel",
          "model_module_version": "1.5.0",
          "state": {
            "_view_name": "HTMLView",
            "style": "IPY_MODEL_afbe5c5687144eedb15c51e673f3357f",
            "_dom_classes": [],
            "description": "",
            "_model_name": "HTMLModel",
            "placeholder": "​",
            "_view_module": "@jupyter-widgets/controls",
            "_model_module_version": "1.5.0",
            "value": "Downloading: 100%",
            "_view_count": null,
            "_view_module_version": "1.5.0",
            "description_tooltip": null,
            "_model_module": "@jupyter-widgets/controls",
            "layout": "IPY_MODEL_ff139d71bc944422892f4b736562a810"
          }
        },
        "b27490125c6a447b9e3ea0788cc0e943": {
          "model_module": "@jupyter-widgets/controls",
          "model_name": "FloatProgressModel",
          "model_module_version": "1.5.0",
          "state": {
            "_view_name": "ProgressView",
            "style": "IPY_MODEL_9e89296e00c14677afb8107e6f702327",
            "_dom_classes": [],
            "description": "",
            "_model_name": "FloatProgressModel",
            "bar_style": "success",
            "max": 542923308,
            "_view_module": "@jupyter-widgets/controls",
            "_model_module_version": "1.5.0",
            "value": 542923308,
            "_view_count": null,
            "_view_module_version": "1.5.0",
            "orientation": "horizontal",
            "min": 0,
            "description_tooltip": null,
            "_model_module": "@jupyter-widgets/controls",
            "layout": "IPY_MODEL_064e625eb7ca431a954ab8734e535a60"
          }
        },
        "65cfe0c68b5844009723ad003c153f24": {
          "model_module": "@jupyter-widgets/controls",
          "model_name": "HTMLModel",
          "model_module_version": "1.5.0",
          "state": {
            "_view_name": "HTMLView",
            "style": "IPY_MODEL_c2bca4e3e885407db5e7bbdab8662718",
            "_dom_classes": [],
            "description": "",
            "_model_name": "HTMLModel",
            "placeholder": "​",
            "_view_module": "@jupyter-widgets/controls",
            "_model_module_version": "1.5.0",
            "value": " 518M/518M [00:17&lt;00:00, 30.9MB/s]",
            "_view_count": null,
            "_view_module_version": "1.5.0",
            "description_tooltip": null,
            "_model_module": "@jupyter-widgets/controls",
            "layout": "IPY_MODEL_dd40742ed73a47afbc4638eb7742c0e6"
          }
        },
        "afbe5c5687144eedb15c51e673f3357f": {
          "model_module": "@jupyter-widgets/controls",
          "model_name": "DescriptionStyleModel",
          "model_module_version": "1.5.0",
          "state": {
            "_view_name": "StyleView",
            "_model_name": "DescriptionStyleModel",
            "description_width": "",
            "_view_module": "@jupyter-widgets/base",
            "_model_module_version": "1.5.0",
            "_view_count": null,
            "_view_module_version": "1.2.0",
            "_model_module": "@jupyter-widgets/controls"
          }
        },
        "ff139d71bc944422892f4b736562a810": {
          "model_module": "@jupyter-widgets/base",
          "model_name": "LayoutModel",
          "model_module_version": "1.2.0",
          "state": {
            "_view_name": "LayoutView",
            "grid_template_rows": null,
            "right": null,
            "justify_content": null,
            "_view_module": "@jupyter-widgets/base",
            "overflow": null,
            "_model_module_version": "1.2.0",
            "_view_count": null,
            "flex_flow": null,
            "width": null,
            "min_width": null,
            "border": null,
            "align_items": null,
            "bottom": null,
            "_model_module": "@jupyter-widgets/base",
            "top": null,
            "grid_column": null,
            "overflow_y": null,
            "overflow_x": null,
            "grid_auto_flow": null,
            "grid_area": null,
            "grid_template_columns": null,
            "flex": null,
            "_model_name": "LayoutModel",
            "justify_items": null,
            "grid_row": null,
            "max_height": null,
            "align_content": null,
            "visibility": null,
            "align_self": null,
            "height": null,
            "min_height": null,
            "padding": null,
            "grid_auto_rows": null,
            "grid_gap": null,
            "max_width": null,
            "order": null,
            "_view_module_version": "1.2.0",
            "grid_template_areas": null,
            "object_position": null,
            "object_fit": null,
            "grid_auto_columns": null,
            "margin": null,
            "display": null,
            "left": null
          }
        },
        "9e89296e00c14677afb8107e6f702327": {
          "model_module": "@jupyter-widgets/controls",
          "model_name": "ProgressStyleModel",
          "model_module_version": "1.5.0",
          "state": {
            "_view_name": "StyleView",
            "_model_name": "ProgressStyleModel",
            "description_width": "",
            "_view_module": "@jupyter-widgets/base",
            "_model_module_version": "1.5.0",
            "_view_count": null,
            "_view_module_version": "1.2.0",
            "bar_color": null,
            "_model_module": "@jupyter-widgets/controls"
          }
        },
        "064e625eb7ca431a954ab8734e535a60": {
          "model_module": "@jupyter-widgets/base",
          "model_name": "LayoutModel",
          "model_module_version": "1.2.0",
          "state": {
            "_view_name": "LayoutView",
            "grid_template_rows": null,
            "right": null,
            "justify_content": null,
            "_view_module": "@jupyter-widgets/base",
            "overflow": null,
            "_model_module_version": "1.2.0",
            "_view_count": null,
            "flex_flow": null,
            "width": null,
            "min_width": null,
            "border": null,
            "align_items": null,
            "bottom": null,
            "_model_module": "@jupyter-widgets/base",
            "top": null,
            "grid_column": null,
            "overflow_y": null,
            "overflow_x": null,
            "grid_auto_flow": null,
            "grid_area": null,
            "grid_template_columns": null,
            "flex": null,
            "_model_name": "LayoutModel",
            "justify_items": null,
            "grid_row": null,
            "max_height": null,
            "align_content": null,
            "visibility": null,
            "align_self": null,
            "height": null,
            "min_height": null,
            "padding": null,
            "grid_auto_rows": null,
            "grid_gap": null,
            "max_width": null,
            "order": null,
            "_view_module_version": "1.2.0",
            "grid_template_areas": null,
            "object_position": null,
            "object_fit": null,
            "grid_auto_columns": null,
            "margin": null,
            "display": null,
            "left": null
          }
        },
        "c2bca4e3e885407db5e7bbdab8662718": {
          "model_module": "@jupyter-widgets/controls",
          "model_name": "DescriptionStyleModel",
          "model_module_version": "1.5.0",
          "state": {
            "_view_name": "StyleView",
            "_model_name": "DescriptionStyleModel",
            "description_width": "",
            "_view_module": "@jupyter-widgets/base",
            "_model_module_version": "1.5.0",
            "_view_count": null,
            "_view_module_version": "1.2.0",
            "_model_module": "@jupyter-widgets/controls"
          }
        },
        "dd40742ed73a47afbc4638eb7742c0e6": {
          "model_module": "@jupyter-widgets/base",
          "model_name": "LayoutModel",
          "model_module_version": "1.2.0",
          "state": {
            "_view_name": "LayoutView",
            "grid_template_rows": null,
            "right": null,
            "justify_content": null,
            "_view_module": "@jupyter-widgets/base",
            "overflow": null,
            "_model_module_version": "1.2.0",
            "_view_count": null,
            "flex_flow": null,
            "width": null,
            "min_width": null,
            "border": null,
            "align_items": null,
            "bottom": null,
            "_model_module": "@jupyter-widgets/base",
            "top": null,
            "grid_column": null,
            "overflow_y": null,
            "overflow_x": null,
            "grid_auto_flow": null,
            "grid_area": null,
            "grid_template_columns": null,
            "flex": null,
            "_model_name": "LayoutModel",
            "justify_items": null,
            "grid_row": null,
            "max_height": null,
            "align_content": null,
            "visibility": null,
            "align_self": null,
            "height": null,
            "min_height": null,
            "padding": null,
            "grid_auto_rows": null,
            "grid_gap": null,
            "max_width": null,
            "order": null,
            "_view_module_version": "1.2.0",
            "grid_template_areas": null,
            "object_position": null,
            "object_fit": null,
            "grid_auto_columns": null,
            "margin": null,
            "display": null,
            "left": null
          }
        },
        "58603f571e4d45e3a4dad7cb5cabd096": {
          "model_module": "@jupyter-widgets/controls",
          "model_name": "HBoxModel",
          "model_module_version": "1.5.0",
          "state": {
            "_view_name": "HBoxView",
            "_dom_classes": [],
            "_model_name": "HBoxModel",
            "_view_module": "@jupyter-widgets/controls",
            "_model_module_version": "1.5.0",
            "_view_count": null,
            "_view_module_version": "1.5.0",
            "box_style": "",
            "layout": "IPY_MODEL_23e14154fcb4458d981a7048e6be278b",
            "_model_module": "@jupyter-widgets/controls",
            "children": [
              "IPY_MODEL_b34faba73da248ccb611e0ea05b508ef",
              "IPY_MODEL_49f59eb42c7a4c02a27809b04758e8b7",
              "IPY_MODEL_192033c9a3a147228b68f0b1932a8def"
            ]
          }
        },
        "23e14154fcb4458d981a7048e6be278b": {
          "model_module": "@jupyter-widgets/base",
          "model_name": "LayoutModel",
          "model_module_version": "1.2.0",
          "state": {
            "_view_name": "LayoutView",
            "grid_template_rows": null,
            "right": null,
            "justify_content": null,
            "_view_module": "@jupyter-widgets/base",
            "overflow": null,
            "_model_module_version": "1.2.0",
            "_view_count": null,
            "flex_flow": null,
            "width": null,
            "min_width": null,
            "border": null,
            "align_items": null,
            "bottom": null,
            "_model_module": "@jupyter-widgets/base",
            "top": null,
            "grid_column": null,
            "overflow_y": null,
            "overflow_x": null,
            "grid_auto_flow": null,
            "grid_area": null,
            "grid_template_columns": null,
            "flex": null,
            "_model_name": "LayoutModel",
            "justify_items": null,
            "grid_row": null,
            "max_height": null,
            "align_content": null,
            "visibility": null,
            "align_self": null,
            "height": null,
            "min_height": null,
            "padding": null,
            "grid_auto_rows": null,
            "grid_gap": null,
            "max_width": null,
            "order": null,
            "_view_module_version": "1.2.0",
            "grid_template_areas": null,
            "object_position": null,
            "object_fit": null,
            "grid_auto_columns": null,
            "margin": null,
            "display": null,
            "left": null
          }
        },
        "b34faba73da248ccb611e0ea05b508ef": {
          "model_module": "@jupyter-widgets/controls",
          "model_name": "HTMLModel",
          "model_module_version": "1.5.0",
          "state": {
            "_view_name": "HTMLView",
            "style": "IPY_MODEL_565c501b76784882b370021ce22cb0cf",
            "_dom_classes": [],
            "description": "",
            "_model_name": "HTMLModel",
            "placeholder": "​",
            "_view_module": "@jupyter-widgets/controls",
            "_model_module_version": "1.5.0",
            "value": "Downloading: 100%",
            "_view_count": null,
            "_view_module_version": "1.5.0",
            "description_tooltip": null,
            "_model_module": "@jupyter-widgets/controls",
            "layout": "IPY_MODEL_5849cb57369d4f01a55f2ea215f0f8c7"
          }
        },
        "49f59eb42c7a4c02a27809b04758e8b7": {
          "model_module": "@jupyter-widgets/controls",
          "model_name": "FloatProgressModel",
          "model_module_version": "1.5.0",
          "state": {
            "_view_name": "ProgressView",
            "style": "IPY_MODEL_22761db7b4ef4e3d8113227945d858fd",
            "_dom_classes": [],
            "description": "",
            "_model_name": "FloatProgressModel",
            "bar_style": "success",
            "max": 895321,
            "_view_module": "@jupyter-widgets/controls",
            "_model_module_version": "1.5.0",
            "value": 895321,
            "_view_count": null,
            "_view_module_version": "1.5.0",
            "orientation": "horizontal",
            "min": 0,
            "description_tooltip": null,
            "_model_module": "@jupyter-widgets/controls",
            "layout": "IPY_MODEL_1e1e2c5ab7a9459eac9544135bac362f"
          }
        },
        "192033c9a3a147228b68f0b1932a8def": {
          "model_module": "@jupyter-widgets/controls",
          "model_name": "HTMLModel",
          "model_module_version": "1.5.0",
          "state": {
            "_view_name": "HTMLView",
            "style": "IPY_MODEL_de4d96411f4945908e5912cce78a3739",
            "_dom_classes": [],
            "description": "",
            "_model_name": "HTMLModel",
            "placeholder": "​",
            "_view_module": "@jupyter-widgets/controls",
            "_model_module_version": "1.5.0",
            "value": " 874k/874k [00:00&lt;00:00, 1.34MB/s]",
            "_view_count": null,
            "_view_module_version": "1.5.0",
            "description_tooltip": null,
            "_model_module": "@jupyter-widgets/controls",
            "layout": "IPY_MODEL_9f29109afe4646fb9fa029d149112c07"
          }
        },
        "565c501b76784882b370021ce22cb0cf": {
          "model_module": "@jupyter-widgets/controls",
          "model_name": "DescriptionStyleModel",
          "model_module_version": "1.5.0",
          "state": {
            "_view_name": "StyleView",
            "_model_name": "DescriptionStyleModel",
            "description_width": "",
            "_view_module": "@jupyter-widgets/base",
            "_model_module_version": "1.5.0",
            "_view_count": null,
            "_view_module_version": "1.2.0",
            "_model_module": "@jupyter-widgets/controls"
          }
        },
        "5849cb57369d4f01a55f2ea215f0f8c7": {
          "model_module": "@jupyter-widgets/base",
          "model_name": "LayoutModel",
          "model_module_version": "1.2.0",
          "state": {
            "_view_name": "LayoutView",
            "grid_template_rows": null,
            "right": null,
            "justify_content": null,
            "_view_module": "@jupyter-widgets/base",
            "overflow": null,
            "_model_module_version": "1.2.0",
            "_view_count": null,
            "flex_flow": null,
            "width": null,
            "min_width": null,
            "border": null,
            "align_items": null,
            "bottom": null,
            "_model_module": "@jupyter-widgets/base",
            "top": null,
            "grid_column": null,
            "overflow_y": null,
            "overflow_x": null,
            "grid_auto_flow": null,
            "grid_area": null,
            "grid_template_columns": null,
            "flex": null,
            "_model_name": "LayoutModel",
            "justify_items": null,
            "grid_row": null,
            "max_height": null,
            "align_content": null,
            "visibility": null,
            "align_self": null,
            "height": null,
            "min_height": null,
            "padding": null,
            "grid_auto_rows": null,
            "grid_gap": null,
            "max_width": null,
            "order": null,
            "_view_module_version": "1.2.0",
            "grid_template_areas": null,
            "object_position": null,
            "object_fit": null,
            "grid_auto_columns": null,
            "margin": null,
            "display": null,
            "left": null
          }
        },
        "22761db7b4ef4e3d8113227945d858fd": {
          "model_module": "@jupyter-widgets/controls",
          "model_name": "ProgressStyleModel",
          "model_module_version": "1.5.0",
          "state": {
            "_view_name": "StyleView",
            "_model_name": "ProgressStyleModel",
            "description_width": "",
            "_view_module": "@jupyter-widgets/base",
            "_model_module_version": "1.5.0",
            "_view_count": null,
            "_view_module_version": "1.2.0",
            "bar_color": null,
            "_model_module": "@jupyter-widgets/controls"
          }
        },
        "1e1e2c5ab7a9459eac9544135bac362f": {
          "model_module": "@jupyter-widgets/base",
          "model_name": "LayoutModel",
          "model_module_version": "1.2.0",
          "state": {
            "_view_name": "LayoutView",
            "grid_template_rows": null,
            "right": null,
            "justify_content": null,
            "_view_module": "@jupyter-widgets/base",
            "overflow": null,
            "_model_module_version": "1.2.0",
            "_view_count": null,
            "flex_flow": null,
            "width": null,
            "min_width": null,
            "border": null,
            "align_items": null,
            "bottom": null,
            "_model_module": "@jupyter-widgets/base",
            "top": null,
            "grid_column": null,
            "overflow_y": null,
            "overflow_x": null,
            "grid_auto_flow": null,
            "grid_area": null,
            "grid_template_columns": null,
            "flex": null,
            "_model_name": "LayoutModel",
            "justify_items": null,
            "grid_row": null,
            "max_height": null,
            "align_content": null,
            "visibility": null,
            "align_self": null,
            "height": null,
            "min_height": null,
            "padding": null,
            "grid_auto_rows": null,
            "grid_gap": null,
            "max_width": null,
            "order": null,
            "_view_module_version": "1.2.0",
            "grid_template_areas": null,
            "object_position": null,
            "object_fit": null,
            "grid_auto_columns": null,
            "margin": null,
            "display": null,
            "left": null
          }
        },
        "de4d96411f4945908e5912cce78a3739": {
          "model_module": "@jupyter-widgets/controls",
          "model_name": "DescriptionStyleModel",
          "model_module_version": "1.5.0",
          "state": {
            "_view_name": "StyleView",
            "_model_name": "DescriptionStyleModel",
            "description_width": "",
            "_view_module": "@jupyter-widgets/base",
            "_model_module_version": "1.5.0",
            "_view_count": null,
            "_view_module_version": "1.2.0",
            "_model_module": "@jupyter-widgets/controls"
          }
        },
        "9f29109afe4646fb9fa029d149112c07": {
          "model_module": "@jupyter-widgets/base",
          "model_name": "LayoutModel",
          "model_module_version": "1.2.0",
          "state": {
            "_view_name": "LayoutView",
            "grid_template_rows": null,
            "right": null,
            "justify_content": null,
            "_view_module": "@jupyter-widgets/base",
            "overflow": null,
            "_model_module_version": "1.2.0",
            "_view_count": null,
            "flex_flow": null,
            "width": null,
            "min_width": null,
            "border": null,
            "align_items": null,
            "bottom": null,
            "_model_module": "@jupyter-widgets/base",
            "top": null,
            "grid_column": null,
            "overflow_y": null,
            "overflow_x": null,
            "grid_auto_flow": null,
            "grid_area": null,
            "grid_template_columns": null,
            "flex": null,
            "_model_name": "LayoutModel",
            "justify_items": null,
            "grid_row": null,
            "max_height": null,
            "align_content": null,
            "visibility": null,
            "align_self": null,
            "height": null,
            "min_height": null,
            "padding": null,
            "grid_auto_rows": null,
            "grid_gap": null,
            "max_width": null,
            "order": null,
            "_view_module_version": "1.2.0",
            "grid_template_areas": null,
            "object_position": null,
            "object_fit": null,
            "grid_auto_columns": null,
            "margin": null,
            "display": null,
            "left": null
          }
        },
        "adc388502d674e12ab09091a53568312": {
          "model_module": "@jupyter-widgets/controls",
          "model_name": "HBoxModel",
          "model_module_version": "1.5.0",
          "state": {
            "_view_name": "HBoxView",
            "_dom_classes": [],
            "_model_name": "HBoxModel",
            "_view_module": "@jupyter-widgets/controls",
            "_model_module_version": "1.5.0",
            "_view_count": null,
            "_view_module_version": "1.5.0",
            "box_style": "",
            "layout": "IPY_MODEL_6e0703679b0b46a7a6bb59f7b89cb721",
            "_model_module": "@jupyter-widgets/controls",
            "children": [
              "IPY_MODEL_ba065a58c6da461baf8c792040deb415",
              "IPY_MODEL_2a8828ece3164854ad7f7f497496b088",
              "IPY_MODEL_795f9a5fff6345a1b9ca703e70afa4ea"
            ]
          }
        },
        "6e0703679b0b46a7a6bb59f7b89cb721": {
          "model_module": "@jupyter-widgets/base",
          "model_name": "LayoutModel",
          "model_module_version": "1.2.0",
          "state": {
            "_view_name": "LayoutView",
            "grid_template_rows": null,
            "right": null,
            "justify_content": null,
            "_view_module": "@jupyter-widgets/base",
            "overflow": null,
            "_model_module_version": "1.2.0",
            "_view_count": null,
            "flex_flow": null,
            "width": null,
            "min_width": null,
            "border": null,
            "align_items": null,
            "bottom": null,
            "_model_module": "@jupyter-widgets/base",
            "top": null,
            "grid_column": null,
            "overflow_y": null,
            "overflow_x": null,
            "grid_auto_flow": null,
            "grid_area": null,
            "grid_template_columns": null,
            "flex": null,
            "_model_name": "LayoutModel",
            "justify_items": null,
            "grid_row": null,
            "max_height": null,
            "align_content": null,
            "visibility": null,
            "align_self": null,
            "height": null,
            "min_height": null,
            "padding": null,
            "grid_auto_rows": null,
            "grid_gap": null,
            "max_width": null,
            "order": null,
            "_view_module_version": "1.2.0",
            "grid_template_areas": null,
            "object_position": null,
            "object_fit": null,
            "grid_auto_columns": null,
            "margin": null,
            "display": null,
            "left": null
          }
        },
        "ba065a58c6da461baf8c792040deb415": {
          "model_module": "@jupyter-widgets/controls",
          "model_name": "HTMLModel",
          "model_module_version": "1.5.0",
          "state": {
            "_view_name": "HTMLView",
            "style": "IPY_MODEL_2582ffccb550410abc09c10263f0293c",
            "_dom_classes": [],
            "description": "",
            "_model_name": "HTMLModel",
            "placeholder": "​",
            "_view_module": "@jupyter-widgets/controls",
            "_model_module_version": "1.5.0",
            "value": "Downloading: 100%",
            "_view_count": null,
            "_view_module_version": "1.5.0",
            "description_tooltip": null,
            "_model_module": "@jupyter-widgets/controls",
            "layout": "IPY_MODEL_ffb327859a01453f8f66941e889907df"
          }
        },
        "2a8828ece3164854ad7f7f497496b088": {
          "model_module": "@jupyter-widgets/controls",
          "model_name": "FloatProgressModel",
          "model_module_version": "1.5.0",
          "state": {
            "_view_name": "ProgressView",
            "style": "IPY_MODEL_bff53bea66604838945eeef2d451c8c4",
            "_dom_classes": [],
            "description": "",
            "_model_name": "FloatProgressModel",
            "bar_style": "success",
            "max": 1135173,
            "_view_module": "@jupyter-widgets/controls",
            "_model_module_version": "1.5.0",
            "value": 1135173,
            "_view_count": null,
            "_view_module_version": "1.5.0",
            "orientation": "horizontal",
            "min": 0,
            "description_tooltip": null,
            "_model_module": "@jupyter-widgets/controls",
            "layout": "IPY_MODEL_c29cfacb5fd64a7e9afab92520b652b0"
          }
        },
        "795f9a5fff6345a1b9ca703e70afa4ea": {
          "model_module": "@jupyter-widgets/controls",
          "model_name": "HTMLModel",
          "model_module_version": "1.5.0",
          "state": {
            "_view_name": "HTMLView",
            "style": "IPY_MODEL_3bc145252ab9437da85f8c4c2aa31dcc",
            "_dom_classes": [],
            "description": "",
            "_model_name": "HTMLModel",
            "placeholder": "​",
            "_view_module": "@jupyter-widgets/controls",
            "_model_module_version": "1.5.0",
            "value": " 1.08M/1.08M [00:00&lt;00:00, 1.28MB/s]",
            "_view_count": null,
            "_view_module_version": "1.5.0",
            "description_tooltip": null,
            "_model_module": "@jupyter-widgets/controls",
            "layout": "IPY_MODEL_37a1d46cab18488abfa8a625327b9bb6"
          }
        },
        "2582ffccb550410abc09c10263f0293c": {
          "model_module": "@jupyter-widgets/controls",
          "model_name": "DescriptionStyleModel",
          "model_module_version": "1.5.0",
          "state": {
            "_view_name": "StyleView",
            "_model_name": "DescriptionStyleModel",
            "description_width": "",
            "_view_module": "@jupyter-widgets/base",
            "_model_module_version": "1.5.0",
            "_view_count": null,
            "_view_module_version": "1.2.0",
            "_model_module": "@jupyter-widgets/controls"
          }
        },
        "ffb327859a01453f8f66941e889907df": {
          "model_module": "@jupyter-widgets/base",
          "model_name": "LayoutModel",
          "model_module_version": "1.2.0",
          "state": {
            "_view_name": "LayoutView",
            "grid_template_rows": null,
            "right": null,
            "justify_content": null,
            "_view_module": "@jupyter-widgets/base",
            "overflow": null,
            "_model_module_version": "1.2.0",
            "_view_count": null,
            "flex_flow": null,
            "width": null,
            "min_width": null,
            "border": null,
            "align_items": null,
            "bottom": null,
            "_model_module": "@jupyter-widgets/base",
            "top": null,
            "grid_column": null,
            "overflow_y": null,
            "overflow_x": null,
            "grid_auto_flow": null,
            "grid_area": null,
            "grid_template_columns": null,
            "flex": null,
            "_model_name": "LayoutModel",
            "justify_items": null,
            "grid_row": null,
            "max_height": null,
            "align_content": null,
            "visibility": null,
            "align_self": null,
            "height": null,
            "min_height": null,
            "padding": null,
            "grid_auto_rows": null,
            "grid_gap": null,
            "max_width": null,
            "order": null,
            "_view_module_version": "1.2.0",
            "grid_template_areas": null,
            "object_position": null,
            "object_fit": null,
            "grid_auto_columns": null,
            "margin": null,
            "display": null,
            "left": null
          }
        },
        "bff53bea66604838945eeef2d451c8c4": {
          "model_module": "@jupyter-widgets/controls",
          "model_name": "ProgressStyleModel",
          "model_module_version": "1.5.0",
          "state": {
            "_view_name": "StyleView",
            "_model_name": "ProgressStyleModel",
            "description_width": "",
            "_view_module": "@jupyter-widgets/base",
            "_model_module_version": "1.5.0",
            "_view_count": null,
            "_view_module_version": "1.2.0",
            "bar_color": null,
            "_model_module": "@jupyter-widgets/controls"
          }
        },
        "c29cfacb5fd64a7e9afab92520b652b0": {
          "model_module": "@jupyter-widgets/base",
          "model_name": "LayoutModel",
          "model_module_version": "1.2.0",
          "state": {
            "_view_name": "LayoutView",
            "grid_template_rows": null,
            "right": null,
            "justify_content": null,
            "_view_module": "@jupyter-widgets/base",
            "overflow": null,
            "_model_module_version": "1.2.0",
            "_view_count": null,
            "flex_flow": null,
            "width": null,
            "min_width": null,
            "border": null,
            "align_items": null,
            "bottom": null,
            "_model_module": "@jupyter-widgets/base",
            "top": null,
            "grid_column": null,
            "overflow_y": null,
            "overflow_x": null,
            "grid_auto_flow": null,
            "grid_area": null,
            "grid_template_columns": null,
            "flex": null,
            "_model_name": "LayoutModel",
            "justify_items": null,
            "grid_row": null,
            "max_height": null,
            "align_content": null,
            "visibility": null,
            "align_self": null,
            "height": null,
            "min_height": null,
            "padding": null,
            "grid_auto_rows": null,
            "grid_gap": null,
            "max_width": null,
            "order": null,
            "_view_module_version": "1.2.0",
            "grid_template_areas": null,
            "object_position": null,
            "object_fit": null,
            "grid_auto_columns": null,
            "margin": null,
            "display": null,
            "left": null
          }
        },
        "3bc145252ab9437da85f8c4c2aa31dcc": {
          "model_module": "@jupyter-widgets/controls",
          "model_name": "DescriptionStyleModel",
          "model_module_version": "1.5.0",
          "state": {
            "_view_name": "StyleView",
            "_model_name": "DescriptionStyleModel",
            "description_width": "",
            "_view_module": "@jupyter-widgets/base",
            "_model_module_version": "1.5.0",
            "_view_count": null,
            "_view_module_version": "1.2.0",
            "_model_module": "@jupyter-widgets/controls"
          }
        },
        "37a1d46cab18488abfa8a625327b9bb6": {
          "model_module": "@jupyter-widgets/base",
          "model_name": "LayoutModel",
          "model_module_version": "1.2.0",
          "state": {
            "_view_name": "LayoutView",
            "grid_template_rows": null,
            "right": null,
            "justify_content": null,
            "_view_module": "@jupyter-widgets/base",
            "overflow": null,
            "_model_module_version": "1.2.0",
            "_view_count": null,
            "flex_flow": null,
            "width": null,
            "min_width": null,
            "border": null,
            "align_items": null,
            "bottom": null,
            "_model_module": "@jupyter-widgets/base",
            "top": null,
            "grid_column": null,
            "overflow_y": null,
            "overflow_x": null,
            "grid_auto_flow": null,
            "grid_area": null,
            "grid_template_columns": null,
            "flex": null,
            "_model_name": "LayoutModel",
            "justify_items": null,
            "grid_row": null,
            "max_height": null,
            "align_content": null,
            "visibility": null,
            "align_self": null,
            "height": null,
            "min_height": null,
            "padding": null,
            "grid_auto_rows": null,
            "grid_gap": null,
            "max_width": null,
            "order": null,
            "_view_module_version": "1.2.0",
            "grid_template_areas": null,
            "object_position": null,
            "object_fit": null,
            "grid_auto_columns": null,
            "margin": null,
            "display": null,
            "left": null
          }
        }
      }
    }
  },
  "cells": [
    {
      "cell_type": "markdown",
      "metadata": {
        "id": "xP-sp-vS1RTZ"
      },
      "source": [
        "### **Install and import library**"
      ]
    },
    {
      "cell_type": "code",
      "metadata": {
        "colab": {
          "base_uri": "https://localhost:8080/"
        },
        "id": "bmS9wUTZ03ZQ",
        "outputId": "a0b3b219-efa8-4841-b797-b3e77a529451"
      },
      "source": [
        "pip install transformers"
      ],
      "execution_count": null,
      "outputs": [
        {
          "output_type": "stream",
          "name": "stdout",
          "text": [
            "Collecting transformers\n",
            "  Downloading transformers-4.12.3-py3-none-any.whl (3.1 MB)\n",
            "\u001b[K     |████████████████████████████████| 3.1 MB 12.2 MB/s \n",
            "\u001b[?25hCollecting huggingface-hub<1.0,>=0.1.0\n",
            "  Downloading huggingface_hub-0.1.0-py3-none-any.whl (59 kB)\n",
            "\u001b[K     |████████████████████████████████| 59 kB 6.9 MB/s \n",
            "\u001b[?25hRequirement already satisfied: filelock in /usr/local/lib/python3.7/dist-packages (from transformers) (3.3.0)\n",
            "Requirement already satisfied: tqdm>=4.27 in /usr/local/lib/python3.7/dist-packages (from transformers) (4.62.3)\n",
            "Collecting sacremoses\n",
            "  Downloading sacremoses-0.0.46-py3-none-any.whl (895 kB)\n",
            "\u001b[K     |████████████████████████████████| 895 kB 43.0 MB/s \n",
            "\u001b[?25hRequirement already satisfied: importlib-metadata in /usr/local/lib/python3.7/dist-packages (from transformers) (4.8.1)\n",
            "Requirement already satisfied: requests in /usr/local/lib/python3.7/dist-packages (from transformers) (2.23.0)\n",
            "Requirement already satisfied: packaging>=20.0 in /usr/local/lib/python3.7/dist-packages (from transformers) (21.0)\n",
            "Requirement already satisfied: numpy>=1.17 in /usr/local/lib/python3.7/dist-packages (from transformers) (1.19.5)\n",
            "Requirement already satisfied: regex!=2019.12.17 in /usr/local/lib/python3.7/dist-packages (from transformers) (2019.12.20)\n",
            "Collecting pyyaml>=5.1\n",
            "  Downloading PyYAML-6.0-cp37-cp37m-manylinux_2_5_x86_64.manylinux1_x86_64.manylinux_2_12_x86_64.manylinux2010_x86_64.whl (596 kB)\n",
            "\u001b[K     |████████████████████████████████| 596 kB 40.8 MB/s \n",
            "\u001b[?25hCollecting tokenizers<0.11,>=0.10.1\n",
            "  Downloading tokenizers-0.10.3-cp37-cp37m-manylinux_2_5_x86_64.manylinux1_x86_64.manylinux_2_12_x86_64.manylinux2010_x86_64.whl (3.3 MB)\n",
            "\u001b[K     |████████████████████████████████| 3.3 MB 30.7 MB/s \n",
            "\u001b[?25hRequirement already satisfied: typing-extensions in /usr/local/lib/python3.7/dist-packages (from huggingface-hub<1.0,>=0.1.0->transformers) (3.7.4.3)\n",
            "Requirement already satisfied: pyparsing>=2.0.2 in /usr/local/lib/python3.7/dist-packages (from packaging>=20.0->transformers) (2.4.7)\n",
            "Requirement already satisfied: zipp>=0.5 in /usr/local/lib/python3.7/dist-packages (from importlib-metadata->transformers) (3.6.0)\n",
            "Requirement already satisfied: certifi>=2017.4.17 in /usr/local/lib/python3.7/dist-packages (from requests->transformers) (2021.5.30)\n",
            "Requirement already satisfied: chardet<4,>=3.0.2 in /usr/local/lib/python3.7/dist-packages (from requests->transformers) (3.0.4)\n",
            "Requirement already satisfied: idna<3,>=2.5 in /usr/local/lib/python3.7/dist-packages (from requests->transformers) (2.10)\n",
            "Requirement already satisfied: urllib3!=1.25.0,!=1.25.1,<1.26,>=1.21.1 in /usr/local/lib/python3.7/dist-packages (from requests->transformers) (1.24.3)\n",
            "Requirement already satisfied: click in /usr/local/lib/python3.7/dist-packages (from sacremoses->transformers) (7.1.2)\n",
            "Requirement already satisfied: joblib in /usr/local/lib/python3.7/dist-packages (from sacremoses->transformers) (1.0.1)\n",
            "Requirement already satisfied: six in /usr/local/lib/python3.7/dist-packages (from sacremoses->transformers) (1.15.0)\n",
            "Installing collected packages: pyyaml, tokenizers, sacremoses, huggingface-hub, transformers\n",
            "  Attempting uninstall: pyyaml\n",
            "    Found existing installation: PyYAML 3.13\n",
            "    Uninstalling PyYAML-3.13:\n",
            "      Successfully uninstalled PyYAML-3.13\n",
            "Successfully installed huggingface-hub-0.1.0 pyyaml-6.0 sacremoses-0.0.46 tokenizers-0.10.3 transformers-4.12.3\n"
          ]
        }
      ]
    },
    {
      "cell_type": "code",
      "metadata": {
        "colab": {
          "base_uri": "https://localhost:8080/"
        },
        "id": "dvPb2Rv82vPw",
        "outputId": "c1510802-0652-4f10-b447-6a7450741311"
      },
      "source": [
        "pip install vncorenlp"
      ],
      "execution_count": null,
      "outputs": [
        {
          "output_type": "stream",
          "name": "stdout",
          "text": [
            "Collecting vncorenlp\n",
            "  Downloading vncorenlp-1.0.3.tar.gz (2.6 MB)\n",
            "\u001b[K     |████████████████████████████████| 2.6 MB 12.7 MB/s \n",
            "\u001b[?25hRequirement already satisfied: requests in /usr/local/lib/python3.7/dist-packages (from vncorenlp) (2.23.0)\n",
            "Requirement already satisfied: chardet<4,>=3.0.2 in /usr/local/lib/python3.7/dist-packages (from requests->vncorenlp) (3.0.4)\n",
            "Requirement already satisfied: urllib3!=1.25.0,!=1.25.1,<1.26,>=1.21.1 in /usr/local/lib/python3.7/dist-packages (from requests->vncorenlp) (1.24.3)\n",
            "Requirement already satisfied: idna<3,>=2.5 in /usr/local/lib/python3.7/dist-packages (from requests->vncorenlp) (2.10)\n",
            "Requirement already satisfied: certifi>=2017.4.17 in /usr/local/lib/python3.7/dist-packages (from requests->vncorenlp) (2021.5.30)\n",
            "Building wheels for collected packages: vncorenlp\n",
            "  Building wheel for vncorenlp (setup.py) ... \u001b[?25l\u001b[?25hdone\n",
            "  Created wheel for vncorenlp: filename=vncorenlp-1.0.3-py3-none-any.whl size=2645951 sha256=a294bf41437612d932c620594b2d7e5a1f6c7c91f644a3beff5955f2ea136f96\n",
            "  Stored in directory: /root/.cache/pip/wheels/0c/d8/f2/d28d97379b4f6479bf51247c8dfd57fa00932fa7a74b6aab29\n",
            "Successfully built vncorenlp\n",
            "Installing collected packages: vncorenlp\n",
            "Successfully installed vncorenlp-1.0.3\n"
          ]
        }
      ]
    },
    {
      "cell_type": "code",
      "metadata": {
        "colab": {
          "base_uri": "https://localhost:8080/"
        },
        "id": "FPTWpwX420LG",
        "outputId": "b37cecab-59bb-4837-f832-31ac09c26411"
      },
      "source": [
        "!mkdir -p vncorenlp/models/wordsegmenter\n",
        "!wget https://raw.githubusercontent.com/vncorenlp/VnCoreNLP/master/VnCoreNLP-1.1.1.jar\n",
        "!wget https://raw.githubusercontent.com/vncorenlp/VnCoreNLP/master/models/wordsegmenter/vi-vocab\n",
        "!wget https://raw.githubusercontent.com/vncorenlp/VnCoreNLP/master/models/wordsegmenter/wordsegmenter.rdr\n",
        "!mv VnCoreNLP-1.1.1.jar vncorenlp/\n",
        "!mv vi-vocab vncorenlp/models/wordsegmenter/\n",
        "!mv wordsegmenter.rdr vncorenlp/models/wordsegmenter/"
      ],
      "execution_count": null,
      "outputs": [
        {
          "output_type": "stream",
          "name": "stdout",
          "text": [
            "--2021-11-05 10:40:53--  https://raw.githubusercontent.com/vncorenlp/VnCoreNLP/master/VnCoreNLP-1.1.1.jar\n",
            "Resolving raw.githubusercontent.com (raw.githubusercontent.com)... 185.199.111.133, 185.199.109.133, 185.199.110.133, ...\n",
            "Connecting to raw.githubusercontent.com (raw.githubusercontent.com)|185.199.111.133|:443... connected.\n",
            "HTTP request sent, awaiting response... 200 OK\n",
            "Length: 27412575 (26M) [application/octet-stream]\n",
            "Saving to: ‘VnCoreNLP-1.1.1.jar’\n",
            "\n",
            "VnCoreNLP-1.1.1.jar 100%[===================>]  26.14M   168MB/s    in 0.2s    \n",
            "\n",
            "2021-11-05 10:40:54 (168 MB/s) - ‘VnCoreNLP-1.1.1.jar’ saved [27412575/27412575]\n",
            "\n",
            "--2021-11-05 10:40:54--  https://raw.githubusercontent.com/vncorenlp/VnCoreNLP/master/models/wordsegmenter/vi-vocab\n",
            "Resolving raw.githubusercontent.com (raw.githubusercontent.com)... 185.199.108.133, 185.199.109.133, 185.199.110.133, ...\n",
            "Connecting to raw.githubusercontent.com (raw.githubusercontent.com)|185.199.108.133|:443... connected.\n",
            "HTTP request sent, awaiting response... 200 OK\n",
            "Length: 526544 (514K) [application/octet-stream]\n",
            "Saving to: ‘vi-vocab’\n",
            "\n",
            "vi-vocab            100%[===================>] 514.20K  --.-KB/s    in 0.02s   \n",
            "\n",
            "2021-11-05 10:40:54 (27.2 MB/s) - ‘vi-vocab’ saved [526544/526544]\n",
            "\n",
            "--2021-11-05 10:40:54--  https://raw.githubusercontent.com/vncorenlp/VnCoreNLP/master/models/wordsegmenter/wordsegmenter.rdr\n",
            "Resolving raw.githubusercontent.com (raw.githubusercontent.com)... 185.199.108.133, 185.199.109.133, 185.199.110.133, ...\n",
            "Connecting to raw.githubusercontent.com (raw.githubusercontent.com)|185.199.108.133|:443... connected.\n",
            "HTTP request sent, awaiting response... 200 OK\n",
            "Length: 128508 (125K) [text/plain]\n",
            "Saving to: ‘wordsegmenter.rdr’\n",
            "\n",
            "wordsegmenter.rdr   100%[===================>] 125.50K  --.-KB/s    in 0.009s  \n",
            "\n",
            "2021-11-05 10:40:54 (14.3 MB/s) - ‘wordsegmenter.rdr’ saved [128508/128508]\n",
            "\n"
          ]
        }
      ]
    },
    {
      "cell_type": "code",
      "metadata": {
        "id": "-k8QAdlG1Zte"
      },
      "source": [
        "from google.colab import drive\n",
        "import os\n",
        "import re\n",
        "import torch\n",
        "import pandas as pd\n",
        "import numpy as np\n",
        "import seaborn as sns\n",
        "import matplotlib.pyplot as plt\n",
        "from vncorenlp import VnCoreNLP\n",
        "from sklearn.metrics import f1_score, confusion_matrix, accuracy_score, recall_score\n",
        "from transformers import AutoTokenizer, AutoModelForSequenceClassification, Trainer, TrainingArguments, BertTokenizer, BertForSequenceClassification"
      ],
      "execution_count": null,
      "outputs": []
    },
    {
      "cell_type": "markdown",
      "metadata": {
        "id": "rV1Lfw2v1dCe"
      },
      "source": [
        "### **Connect to Google Drive**"
      ]
    },
    {
      "cell_type": "code",
      "metadata": {
        "colab": {
          "base_uri": "https://localhost:8080/"
        },
        "id": "BU-oqgnd1bwP",
        "outputId": "588dd253-9fd7-4389-bcb0-fa28dacbd94c"
      },
      "source": [
        "drive.mount('/gdrive')"
      ],
      "execution_count": null,
      "outputs": [
        {
          "output_type": "stream",
          "name": "stdout",
          "text": [
            "Mounted at /gdrive\n"
          ]
        }
      ]
    },
    {
      "cell_type": "code",
      "metadata": {
        "id": "g4rpx7Di1oBn"
      },
      "source": [
        "DIR_ROOT = '/gdrive/MyDrive/FakeCommentDetection'\n",
        "DIR_DATASET = os.path.join(DIR_ROOT, 'dataset')\n",
        "\n",
        "PATH_TRAIN = os.path.join(DIR_DATASET, 'train.csv')\n",
        "PATH_DEV = os.path.join(DIR_DATASET, 'dev.csv')\n",
        "PATH_TEST = os.path.join(DIR_DATASET, 'test.csv')\n",
        "\n",
        "STOPWORDS_PATH = os.path.join(DIR_ROOT, 'vietnamese-stopwords-dash.txt')\n",
        "\n",
        "MODEL_DIR = os.path.join(DIR_ROOT, 'transformer_model')\n",
        "if not os.path.exists(MODEL_DIR):\n",
        "    os.makedirs(MODEL_DIR)"
      ],
      "execution_count": null,
      "outputs": []
    },
    {
      "cell_type": "code",
      "metadata": {
        "id": "e_h3XLGLiMD4"
      },
      "source": [
        "labels_task_1 = [\"no-spam\", \"spam\"]\n",
        "\n",
        "def show_predict_result(trainer, test_dataset, y_test, labels):\n",
        "    y_pred_classify = trainer.predict(test_dataset)\n",
        "    y_pred = np.argmax(y_pred_classify.predictions, axis=-1)\n",
        "    cf = confusion_matrix(y_test, y_pred)\n",
        "    df_cm = pd.DataFrame(cf, index = labels, columns = labels)\n",
        "    sns.heatmap(df_cm, annot=True, cmap=\"Greys\",fmt='g', cbar=True, annot_kws={\"size\": 30})\n",
        "    print(\"F1 - micro:\", f1_score(y_test, y_pred, average='micro'))\n",
        "    print(\"F1 - macro:\", f1_score(y_test, y_pred, average='macro'))\n",
        "    print(\"Accuracy:\", accuracy_score(y_test, y_pred))\n",
        "\n",
        "\n",
        "class BuildDataset(torch.utils.data.Dataset):\n",
        "    def __init__(self, encodings, labels):\n",
        "        self.encodings = encodings\n",
        "        self.labels = labels\n",
        "\n",
        "    def __getitem__(self, idx):\n",
        "        item = {key: torch.tensor(val[idx]) for key, val in self.encodings.items()}\n",
        "        item['labels'] = torch.tensor(self.labels[idx])\n",
        "        return item\n",
        "\n",
        "    def __len__(self):\n",
        "        return len(self.labels)"
      ],
      "execution_count": null,
      "outputs": []
    },
    {
      "cell_type": "markdown",
      "metadata": {
        "id": "egioj-qR3Gr_"
      },
      "source": [
        "### **Load data**"
      ]
    },
    {
      "cell_type": "code",
      "metadata": {
        "id": "lpPYELwM3In-"
      },
      "source": [
        "train_data = pd.read_csv(PATH_TRAIN)\n",
        "X_train = train_data.iloc[:, 0:2]\n",
        "y_train = train_data.iloc[:, 2:4]\n",
        "\n",
        "dev_data = pd.read_csv(PATH_DEV)\n",
        "X_dev = dev_data.iloc[:, 0:2]\n",
        "y_dev = dev_data.iloc[:, 2:4]\n",
        "\n",
        "test_data = pd.read_csv(PATH_TEST)\n",
        "X_test = test_data.iloc[:, 0:2]\n",
        "y_test = test_data.iloc[:, 2:4]"
      ],
      "execution_count": null,
      "outputs": []
    },
    {
      "cell_type": "code",
      "metadata": {
        "id": "r_RYIiqc3t4F"
      },
      "source": [
        "vncorenlp = VnCoreNLP(\"vncorenlp/VnCoreNLP-1.1.1.jar\", annotators=\"wseg\", max_heap_size='-Xmx500m')"
      ],
      "execution_count": null,
      "outputs": []
    },
    {
      "cell_type": "code",
      "metadata": {
        "id": "00an4OZx4BS3"
      },
      "source": [
        "with open(STOPWORDS_PATH, \"r\") as ins:\n",
        "    stopwords = []\n",
        "    for line in ins:\n",
        "        dd = line.strip('\\n')\n",
        "        stopwords.append(dd)\n",
        "    stopwords = set(stopwords)"
      ],
      "execution_count": null,
      "outputs": []
    },
    {
      "cell_type": "code",
      "metadata": {
        "id": "DzLX_owH4G0G"
      },
      "source": [
        "def filter_stop_words(train_sentences, stop_words):\n",
        "    new_sent = [word for word in train_sentences.split() if word not in stop_words]\n",
        "    train_sentences = ' '.join(new_sent)\n",
        "\n",
        "    return train_sentences\n",
        "\n",
        "\n",
        "def deEmojify(text):\n",
        "    regrex_pattern = re.compile(pattern = \"[\"\n",
        "        u\"\\U0001F600-\\U0001F64F\"  # emoticons\n",
        "        u\"\\U0001F300-\\U0001F5FF\"  # symbols & pictographs\n",
        "        u\"\\U0001F680-\\U0001F6FF\"  # transport & map symbols\n",
        "        u\"\\U0001F1E0-\\U0001F1FF\"  # flags (iOS)\n",
        "                           \"]+\", flags = re.UNICODE)\n",
        "    return regrex_pattern.sub(r'',text)\n",
        "\n",
        "\n",
        "def preprocess(text, tokenized=True, lowercased=True):\n",
        "    # text = ViTokenizer.tokenize(text)\n",
        "    # text = ' '.join(vncorenlp.tokenize(text)[0])\n",
        "    text = filter_stop_words(text, stopwords)\n",
        "    text = deEmojify(text)\n",
        "    text = text.lower() if lowercased else text\n",
        "    if tokenized:\n",
        "        pre_text = \"\"\n",
        "        sentences = vncorenlp.tokenize(text)\n",
        "        for sentence in sentences:\n",
        "            pre_text += \" \".join(sentence)\n",
        "        text = pre_text\n",
        "    return text\n",
        "\n",
        "\n",
        "def pre_process_features(X, y1, y2, tokenized=True, lowercased=True):\n",
        "    X = np.array(X)\n",
        "    y1 = np.array(y1)\n",
        "    y2 = np.array(y2)\n",
        "    X = [preprocess(str(p), tokenized=tokenized, lowercased=lowercased) for p in list(X)]\n",
        "    for idx, ele in enumerate(X):\n",
        "        if not ele:\n",
        "            np.delete(X, idx)\n",
        "            np.delete(y1, idx)\n",
        "            np.delete(y2, idx)\n",
        "    return X, y1, y2"
      ],
      "execution_count": null,
      "outputs": []
    },
    {
      "cell_type": "code",
      "metadata": {
        "id": "-H5CYpii41r_"
      },
      "source": [
        "train_X, train_y, train_y_spam = pre_process_features(X_train['Comment'], y_train['Label'], y_train['SpamLabel'], tokenized=True, lowercased = False)\n",
        "dev_X, dev_y, dev_y_spam = pre_process_features(X_dev['Comment'], y_dev['Label'], y_dev['SpamLabel'], tokenized=True, lowercased = False)\n",
        "test_X, test_y, test_y_spam = pre_process_features(X_test['Comment'], y_test['Label'], y_test['SpamLabel'], tokenized=True, lowercased = False)"
      ],
      "execution_count": null,
      "outputs": []
    },
    {
      "cell_type": "markdown",
      "metadata": {
        "id": "66HBa7Yp5PaA"
      },
      "source": [
        "### **PhoBERT**"
      ]
    },
    {
      "cell_type": "code",
      "metadata": {
        "colab": {
          "base_uri": "https://localhost:8080/",
          "height": 267,
          "referenced_widgets": [
            "07f2edbcf0784f8ab61bebfc7e098d1e",
            "9649517583dd464f97c3ede34e8568c8",
            "95fe4b1ea35c4c209f91fbdae60822e6",
            "93388d32c9f4486c95b020576a40d429",
            "7498589128ca443eba96b27a0a25a850",
            "0caf19f3de1f460980e7183f59eb6382",
            "853a6f5865e2462080748e6ceb908f71",
            "a5b44999da6941d9882a131901b481d6",
            "14edfa91872643bc995863c3a2f73a6c",
            "ceacb0850d434f1ab546c14b63c8861d",
            "efdf8c4e1c9a47feaaa4094d44b8d46c",
            "8f3e0b512e4f43ffa4e0258686f7acf8",
            "cf71bcb0cffc4c4c8237b02e9380cf7c",
            "db8645e867a742f4bd5d816ca6356a05",
            "b27490125c6a447b9e3ea0788cc0e943",
            "65cfe0c68b5844009723ad003c153f24",
            "afbe5c5687144eedb15c51e673f3357f",
            "ff139d71bc944422892f4b736562a810",
            "9e89296e00c14677afb8107e6f702327",
            "064e625eb7ca431a954ab8734e535a60",
            "c2bca4e3e885407db5e7bbdab8662718",
            "dd40742ed73a47afbc4638eb7742c0e6",
            "58603f571e4d45e3a4dad7cb5cabd096",
            "23e14154fcb4458d981a7048e6be278b",
            "b34faba73da248ccb611e0ea05b508ef",
            "49f59eb42c7a4c02a27809b04758e8b7",
            "192033c9a3a147228b68f0b1932a8def",
            "565c501b76784882b370021ce22cb0cf",
            "5849cb57369d4f01a55f2ea215f0f8c7",
            "22761db7b4ef4e3d8113227945d858fd",
            "1e1e2c5ab7a9459eac9544135bac362f",
            "de4d96411f4945908e5912cce78a3739",
            "9f29109afe4646fb9fa029d149112c07",
            "adc388502d674e12ab09091a53568312",
            "6e0703679b0b46a7a6bb59f7b89cb721",
            "ba065a58c6da461baf8c792040deb415",
            "2a8828ece3164854ad7f7f497496b088",
            "795f9a5fff6345a1b9ca703e70afa4ea",
            "2582ffccb550410abc09c10263f0293c",
            "ffb327859a01453f8f66941e889907df",
            "bff53bea66604838945eeef2d451c8c4",
            "c29cfacb5fd64a7e9afab92520b652b0",
            "3bc145252ab9437da85f8c4c2aa31dcc",
            "37a1d46cab18488abfa8a625327b9bb6"
          ]
        },
        "id": "enMJySXW5Q1m",
        "outputId": "833913f1-943a-438f-b179-ed3f79b073ab"
      },
      "source": [
        "model = AutoModelForSequenceClassification.from_pretrained(\"vinai/phobert-base\", num_labels = 2)\n",
        "tokenizer = AutoTokenizer.from_pretrained(\"vinai/phobert-base\", use_fast=False)"
      ],
      "execution_count": null,
      "outputs": [
        {
          "output_type": "display_data",
          "data": {
            "application/vnd.jupyter.widget-view+json": {
              "model_id": "07f2edbcf0784f8ab61bebfc7e098d1e",
              "version_minor": 0,
              "version_major": 2
            },
            "text/plain": [
              "Downloading:   0%|          | 0.00/557 [00:00<?, ?B/s]"
            ]
          },
          "metadata": {}
        },
        {
          "output_type": "display_data",
          "data": {
            "application/vnd.jupyter.widget-view+json": {
              "model_id": "8f3e0b512e4f43ffa4e0258686f7acf8",
              "version_minor": 0,
              "version_major": 2
            },
            "text/plain": [
              "Downloading:   0%|          | 0.00/518M [00:00<?, ?B/s]"
            ]
          },
          "metadata": {}
        },
        {
          "output_type": "stream",
          "name": "stderr",
          "text": [
            "Some weights of the model checkpoint at vinai/phobert-base were not used when initializing RobertaForSequenceClassification: ['lm_head.layer_norm.weight', 'lm_head.decoder.weight', 'roberta.pooler.dense.weight', 'lm_head.dense.weight', 'lm_head.decoder.bias', 'lm_head.dense.bias', 'lm_head.bias', 'roberta.pooler.dense.bias', 'lm_head.layer_norm.bias']\n",
            "- This IS expected if you are initializing RobertaForSequenceClassification from the checkpoint of a model trained on another task or with another architecture (e.g. initializing a BertForSequenceClassification model from a BertForPreTraining model).\n",
            "- This IS NOT expected if you are initializing RobertaForSequenceClassification from the checkpoint of a model that you expect to be exactly identical (initializing a BertForSequenceClassification model from a BertForSequenceClassification model).\n",
            "Some weights of RobertaForSequenceClassification were not initialized from the model checkpoint at vinai/phobert-base and are newly initialized: ['classifier.dense.weight', 'classifier.dense.bias', 'classifier.out_proj.bias', 'classifier.out_proj.weight']\n",
            "You should probably TRAIN this model on a down-stream task to be able to use it for predictions and inference.\n"
          ]
        },
        {
          "output_type": "display_data",
          "data": {
            "application/vnd.jupyter.widget-view+json": {
              "model_id": "58603f571e4d45e3a4dad7cb5cabd096",
              "version_minor": 0,
              "version_major": 2
            },
            "text/plain": [
              "Downloading:   0%|          | 0.00/874k [00:00<?, ?B/s]"
            ]
          },
          "metadata": {}
        },
        {
          "output_type": "display_data",
          "data": {
            "application/vnd.jupyter.widget-view+json": {
              "model_id": "adc388502d674e12ab09091a53568312",
              "version_minor": 0,
              "version_major": 2
            },
            "text/plain": [
              "Downloading:   0%|          | 0.00/1.08M [00:00<?, ?B/s]"
            ]
          },
          "metadata": {}
        },
        {
          "output_type": "stream",
          "name": "stderr",
          "text": [
            "Special tokens have been added in the vocabulary, make sure the associated word embeddings are fine-tuned or trained.\n"
          ]
        }
      ]
    },
    {
      "cell_type": "code",
      "metadata": {
        "id": "bn4llxl95uz-",
        "colab": {
          "base_uri": "https://localhost:8080/",
          "height": 596
        },
        "outputId": "32a93986-d0ba-465b-b857-eee417cf53b3"
      },
      "source": [
        "train_encodings = tokenizer(train_X, truncation=True, padding=True, max_length=100)\n",
        "dev_encodings = tokenizer(dev_X, truncation=True, padding=True, max_length=100)\n",
        "test_encodings = tokenizer(test_X, truncation=True, padding=True, max_length=100)\n",
        "\n",
        "train_dataset = BuildDataset(train_encodings, train_y)\n",
        "dev_dataset = BuildDataset(dev_encodings, dev_y)\n",
        "test_dataset = BuildDataset(test_encodings, test_y)\n",
        "\n",
        "OUTPUT_DIR = os.path.join(MODEL_DIR, 'phobert', 'task_1')\n",
        "\n",
        "training_args = TrainingArguments(\n",
        "    output_dir= OUTPUT_DIR,\n",
        "    num_train_epochs=2,\n",
        "    per_device_train_batch_size=16,\n",
        "    per_device_eval_batch_size=16,\n",
        "    warmup_steps=500,\n",
        "    weight_decay=0.01,\n",
        "    no_cuda=False,\n",
        "    do_eval=True\n",
        ")\n",
        "\n",
        "trainer = Trainer(\n",
        "    model=model,\n",
        "    args=training_args,\n",
        "    train_dataset=train_dataset,\n",
        "    eval_dataset=dev_dataset\n",
        ")\n",
        "\n",
        "trainer.train()\n",
        "trainer.save_model(OUTPUT_DIR)"
      ],
      "execution_count": null,
      "outputs": [
        {
          "output_type": "stream",
          "name": "stderr",
          "text": [
            "***** Running training *****\n",
            "  Num examples = 14306\n",
            "  Num Epochs = 2\n",
            "  Instantaneous batch size per device = 16\n",
            "  Total train batch size (w. parallel, distributed & accumulation) = 16\n",
            "  Gradient Accumulation steps = 1\n",
            "  Total optimization steps = 1790\n"
          ]
        },
        {
          "output_type": "display_data",
          "data": {
            "text/html": [
              "\n",
              "    <div>\n",
              "      \n",
              "      <progress value='1790' max='1790' style='width:300px; height:20px; vertical-align: middle;'></progress>\n",
              "      [1790/1790 19:04, Epoch 2/2]\n",
              "    </div>\n",
              "    <table border=\"1\" class=\"dataframe\">\n",
              "  <thead>\n",
              "    <tr style=\"text-align: left;\">\n",
              "      <th>Step</th>\n",
              "      <th>Training Loss</th>\n",
              "    </tr>\n",
              "  </thead>\n",
              "  <tbody>\n",
              "    <tr>\n",
              "      <td>500</td>\n",
              "      <td>0.415100</td>\n",
              "    </tr>\n",
              "    <tr>\n",
              "      <td>1000</td>\n",
              "      <td>0.297500</td>\n",
              "    </tr>\n",
              "    <tr>\n",
              "      <td>1500</td>\n",
              "      <td>0.239400</td>\n",
              "    </tr>\n",
              "  </tbody>\n",
              "</table><p>"
            ],
            "text/plain": [
              "<IPython.core.display.HTML object>"
            ]
          },
          "metadata": {}
        },
        {
          "output_type": "stream",
          "name": "stderr",
          "text": [
            "Saving model checkpoint to /gdrive/MyDrive/FakeCommentDetection/transformer_model/phobert/task_1/checkpoint-500\n",
            "Configuration saved in /gdrive/MyDrive/FakeCommentDetection/transformer_model/phobert/task_1/checkpoint-500/config.json\n",
            "Model weights saved in /gdrive/MyDrive/FakeCommentDetection/transformer_model/phobert/task_1/checkpoint-500/pytorch_model.bin\n",
            "Saving model checkpoint to /gdrive/MyDrive/FakeCommentDetection/transformer_model/phobert/task_1/checkpoint-1000\n",
            "Configuration saved in /gdrive/MyDrive/FakeCommentDetection/transformer_model/phobert/task_1/checkpoint-1000/config.json\n",
            "Model weights saved in /gdrive/MyDrive/FakeCommentDetection/transformer_model/phobert/task_1/checkpoint-1000/pytorch_model.bin\n",
            "Saving model checkpoint to /gdrive/MyDrive/FakeCommentDetection/transformer_model/phobert/task_1/checkpoint-1500\n",
            "Configuration saved in /gdrive/MyDrive/FakeCommentDetection/transformer_model/phobert/task_1/checkpoint-1500/config.json\n",
            "Model weights saved in /gdrive/MyDrive/FakeCommentDetection/transformer_model/phobert/task_1/checkpoint-1500/pytorch_model.bin\n",
            "\n",
            "\n",
            "Training completed. Do not forget to share your model on huggingface.co/models =)\n",
            "\n",
            "\n",
            "Saving model checkpoint to /gdrive/MyDrive/FakeCommentDetection/transformer_model/phobert/task_1\n",
            "Configuration saved in /gdrive/MyDrive/FakeCommentDetection/transformer_model/phobert/task_1/config.json\n",
            "Model weights saved in /gdrive/MyDrive/FakeCommentDetection/transformer_model/phobert/task_1/pytorch_model.bin\n"
          ]
        }
      ]
    },
    {
      "cell_type": "code",
      "metadata": {
        "colab": {
          "base_uri": "https://localhost:8080/",
          "height": 387
        },
        "id": "MJeGy2UC-07k",
        "outputId": "8210385e-7b7b-4b85-e9f4-2e4f46694fec"
      },
      "source": [
        "show_predict_result(trainer, test_dataset, test_y, labels_task_1)"
      ],
      "execution_count": null,
      "outputs": [
        {
          "output_type": "stream",
          "name": "stderr",
          "text": [
            "***** Running Prediction *****\n",
            "  Num examples = 3974\n",
            "  Batch size = 16\n"
          ]
        },
        {
          "output_type": "display_data",
          "data": {
            "text/html": [
              "\n",
              "    <div>\n",
              "      \n",
              "      <progress value='249' max='249' style='width:300px; height:20px; vertical-align: middle;'></progress>\n",
              "      [249/249 00:51]\n",
              "    </div>\n",
              "    "
            ],
            "text/plain": [
              "<IPython.core.display.HTML object>"
            ]
          },
          "metadata": {}
        },
        {
          "output_type": "stream",
          "name": "stdout",
          "text": [
            "F1 - micro: 0.9001006542526422\n",
            "F1 - macro: 0.868886902676857\n",
            "Accuracy: 0.9001006542526422\n"
          ]
        },
        {
          "output_type": "display_data",
          "data": {
            "image/png": "[encoded data removed]",
            "text/plain": [
              "<Figure size 432x288 with 2 Axes>"
            ]
          },
          "metadata": {
            "needs_background": "light"
          }
        }
      ]
    },
    {
      "cell_type": "code",
      "metadata": {
        "colab": {
          "base_uri": "https://localhost:8080/"
        },
        "id": "53v9YbBHrwqf",
        "outputId": "a1e19336-a154-4e5b-bc1e-4a8be37fbb88"
      },
      "source": [
        "model = AutoModelForSequenceClassification.from_pretrained(\"NlpHUST/vibert4news-base-cased\", num_labels = 4)\n",
        "tokenizer = BertTokenizer.from_pretrained(\"NlpHUST/vibert4news-base-cased\", use_fast=False)"
      ],
      "execution_count": null,
      "outputs": [
        {
          "output_type": "stream",
          "name": "stderr",
          "text": [
            "loading configuration file https://huggingface.co/NlpHUST/vibert4news-base-cased/resolve/main/config.json from cache at /root/.cache/huggingface/transformers/46dd323249fff6d5e77138474e0b533c3f6c9dd56fea430098410d1418fb8ff5.b9a023ccbf3e5dd443c3f6ec225709ded1fd2ea513add7fbbd20104481407038\n",
            "Model config IBertConfig {\n",
            "  \"architectures\": [\n",
            "    \"BertForMaskedLM\"\n",
            "  ],\n",
            "  \"attention_probs_dropout_prob\": 0.1,\n",
            "  \"bos_token_id\": 0,\n",
            "  \"directionality\": \"bidi\",\n",
            "  \"eos_token_id\": 2,\n",
            "  \"force_dequant\": \"none\",\n",
            "  \"hidden_act\": \"gelu\",\n",
            "  \"hidden_dropout_prob\": 0.1,\n",
            "  \"hidden_size\": 768,\n",
            "  \"id2label\": {\n",
            "    \"0\": \"LABEL_0\",\n",
            "    \"1\": \"LABEL_1\",\n",
            "    \"2\": \"LABEL_2\",\n",
            "    \"3\": \"LABEL_3\"\n",
            "  },\n",
            "  \"initializer_range\": 0.02,\n",
            "  \"intermediate_size\": 3072,\n",
            "  \"label2id\": {\n",
            "    \"LABEL_0\": 0,\n",
            "    \"LABEL_1\": 1,\n",
            "    \"LABEL_2\": 2,\n",
            "    \"LABEL_3\": 3\n",
            "  },\n",
            "  \"layer_norm_eps\": 1e-12,\n",
            "  \"max_position_embeddings\": 512,\n",
            "  \"model_type\": \"ibert\",\n",
            "  \"num_attention_heads\": 12,\n",
            "  \"num_hidden_layers\": 12,\n",
            "  \"pad_token_id\": 1,\n",
            "  \"pooler_fc_size\": 768,\n",
            "  \"pooler_num_attention_heads\": 12,\n",
            "  \"pooler_num_fc_layers\": 3,\n",
            "  \"pooler_size_per_head\": 128,\n",
            "  \"pooler_type\": \"first_token_transform\",\n",
            "  \"position_embedding_type\": \"absolute\",\n",
            "  \"quant_mode\": false,\n",
            "  \"transformers_version\": \"4.12.3\",\n",
            "  \"type_vocab_size\": 2,\n",
            "  \"vocab_size\": 62000\n",
            "}\n",
            "\n",
            "loading weights file https://huggingface.co/NlpHUST/vibert4news-base-cased/resolve/main/pytorch_model.bin from cache at /root/.cache/huggingface/transformers/9efb5fa941786ee27d0c16938cf843770359415dc838af631a785c2400ec828f.d41e46357b37227df1b849092fe8892f264898a1104725fe019174b554695719\n",
            "Some weights of the model checkpoint at NlpHUST/vibert4news-base-cased were not used when initializing IBertForSequenceClassification: ['bert.encoder.layer.11.intermediate.dense.bias', 'bert.encoder.layer.2.output.LayerNorm.weight', 'bert.encoder.layer.11.attention.self.key.weight', 'bert.encoder.layer.7.attention.self.query.weight', 'bert.encoder.layer.8.attention.self.query.bias', 'bert.pooler.dense.bias', 'bert.encoder.layer.4.attention.output.dense.weight', 'bert.encoder.layer.2.attention.self.query.weight', 'bert.encoder.layer.6.attention.self.query.weight', 'bert.encoder.layer.10.attention.self.query.weight', 'bert.encoder.layer.5.attention.self.query.bias', 'bert.encoder.layer.10.attention.output.dense.weight', 'cls.predictions.bias', 'bert.encoder.layer.1.attention.self.query.bias', 'bert.encoder.layer.10.attention.output.LayerNorm.weight', 'bert.encoder.layer.10.attention.output.LayerNorm.bias', 'bert.encoder.layer.9.output.LayerNorm.weight', 'bert.encoder.layer.9.attention.self.key.bias', 'bert.encoder.layer.4.output.LayerNorm.weight', 'bert.encoder.layer.9.attention.output.dense.weight', 'bert.encoder.layer.4.attention.output.dense.bias', 'bert.encoder.layer.7.attention.output.LayerNorm.bias', 'bert.encoder.layer.10.attention.self.key.bias', 'bert.encoder.layer.6.attention.self.key.weight', 'bert.encoder.layer.1.attention.self.query.weight', 'bert.encoder.layer.5.attention.output.dense.weight', 'bert.encoder.layer.5.attention.output.LayerNorm.weight', 'bert.encoder.layer.9.attention.output.LayerNorm.bias', 'bert.encoder.layer.11.output.dense.bias', 'bert.encoder.layer.3.attention.self.value.bias', 'bert.encoder.layer.9.intermediate.dense.bias', 'bert.encoder.layer.11.attention.output.dense.bias', 'cls.predictions.transform.dense.weight', 'bert.encoder.layer.1.attention.self.value.weight', 'bert.encoder.layer.3.attention.self.key.weight', 'bert.encoder.layer.8.attention.output.dense.weight', 'bert.encoder.layer.4.intermediate.dense.weight', 'bert.encoder.layer.6.intermediate.dense.weight', 'bert.encoder.layer.4.attention.self.value.weight', 'bert.encoder.layer.0.attention.self.value.bias', 'bert.encoder.layer.8.attention.self.query.weight', 'bert.encoder.layer.7.output.dense.bias', 'bert.encoder.layer.3.output.LayerNorm.bias', 'bert.encoder.layer.0.output.LayerNorm.bias', 'bert.encoder.layer.7.output.LayerNorm.bias', 'bert.encoder.layer.0.output.dense.weight', 'bert.encoder.layer.1.intermediate.dense.bias', 'bert.encoder.layer.5.attention.output.LayerNorm.bias', 'bert.encoder.layer.1.output.dense.weight', 'bert.encoder.layer.11.attention.self.query.bias', 'bert.encoder.layer.5.output.dense.weight', 'bert.encoder.layer.3.output.LayerNorm.weight', 'bert.encoder.layer.8.attention.output.LayerNorm.weight', 'bert.embeddings.token_type_embeddings.weight', 'bert.encoder.layer.11.attention.self.value.weight', 'bert.encoder.layer.6.output.dense.bias', 'bert.encoder.layer.1.attention.self.value.bias', 'bert.encoder.layer.2.attention.self.value.weight', 'bert.encoder.layer.4.attention.self.query.weight', 'bert.encoder.layer.7.output.dense.weight', 'bert.encoder.layer.9.attention.self.value.weight', 'bert.encoder.layer.11.attention.self.query.weight', 'bert.encoder.layer.3.output.dense.bias', 'bert.encoder.layer.10.attention.self.value.weight', 'bert.encoder.layer.3.attention.self.key.bias', 'bert.encoder.layer.6.attention.self.query.bias', 'bert.encoder.layer.5.attention.self.key.weight', 'bert.encoder.layer.2.attention.output.dense.weight', 'bert.encoder.layer.8.output.LayerNorm.weight', 'bert.encoder.layer.8.attention.self.value.weight', 'bert.encoder.layer.10.attention.self.query.bias', 'bert.encoder.layer.7.output.LayerNorm.weight', 'bert.encoder.layer.0.attention.self.key.weight', 'bert.encoder.layer.10.output.dense.bias', 'bert.encoder.layer.10.attention.output.dense.bias', 'bert.encoder.layer.6.attention.output.dense.weight', 'bert.encoder.layer.2.attention.output.LayerNorm.bias', 'bert.encoder.layer.3.attention.output.dense.weight', 'bert.encoder.layer.3.attention.self.query.bias', 'bert.encoder.layer.4.intermediate.dense.bias', 'bert.encoder.layer.6.output.LayerNorm.weight', 'bert.encoder.layer.7.attention.self.query.bias', 'bert.encoder.layer.9.attention.self.query.bias', 'bert.encoder.layer.2.attention.self.value.bias', 'bert.encoder.layer.11.attention.output.LayerNorm.bias', 'bert.encoder.layer.2.output.dense.bias', 'bert.encoder.layer.6.attention.output.dense.bias', 'bert.encoder.layer.1.output.dense.bias', 'bert.encoder.layer.3.attention.output.LayerNorm.weight', 'bert.encoder.layer.8.intermediate.dense.bias', 'bert.encoder.layer.2.intermediate.dense.weight', 'bert.encoder.layer.1.attention.output.dense.weight', 'bert.encoder.layer.10.intermediate.dense.bias', 'bert.encoder.layer.2.attention.output.LayerNorm.weight', 'bert.encoder.layer.5.output.LayerNorm.bias', 'cls.predictions.transform.dense.bias', 'bert.encoder.layer.10.attention.self.value.bias', 'bert.encoder.layer.1.attention.output.LayerNorm.weight', 'bert.encoder.layer.4.output.dense.weight', 'bert.encoder.layer.7.attention.output.dense.bias', 'bert.encoder.layer.11.attention.output.dense.weight', 'bert.encoder.layer.7.attention.self.value.weight', 'bert.encoder.layer.0.attention.output.LayerNorm.weight', 'bert.encoder.layer.1.attention.self.key.bias', 'bert.encoder.layer.0.attention.output.LayerNorm.bias', 'bert.embeddings.word_embeddings.weight', 'bert.encoder.layer.7.attention.output.dense.weight', 'bert.encoder.layer.1.intermediate.dense.weight', 'bert.encoder.layer.3.attention.output.LayerNorm.bias', 'bert.encoder.layer.4.attention.self.key.weight', 'bert.encoder.layer.8.attention.self.key.weight', 'cls.seq_relationship.weight', 'bert.encoder.layer.10.attention.self.key.weight', 'bert.encoder.layer.7.intermediate.dense.bias', 'bert.encoder.layer.5.attention.self.value.bias', 'bert.encoder.layer.8.attention.self.value.bias', 'bert.encoder.layer.4.attention.self.key.bias', 'bert.encoder.layer.1.output.LayerNorm.weight', 'bert.encoder.layer.7.attention.self.key.weight', 'bert.embeddings.LayerNorm.weight', 'bert.embeddings.LayerNorm.bias', 'bert.encoder.layer.0.intermediate.dense.weight', 'bert.encoder.layer.6.output.LayerNorm.bias', 'bert.encoder.layer.8.attention.output.dense.bias', 'bert.encoder.layer.2.attention.output.dense.bias', 'bert.encoder.layer.9.output.dense.weight', 'bert.encoder.layer.9.intermediate.dense.weight', 'bert.encoder.layer.5.intermediate.dense.weight', 'bert.encoder.layer.7.attention.self.key.bias', 'bert.encoder.layer.1.attention.self.key.weight', 'bert.embeddings.position_embeddings.weight', 'bert.encoder.layer.5.intermediate.dense.bias', 'bert.encoder.layer.8.intermediate.dense.weight', 'bert.encoder.layer.7.intermediate.dense.weight', 'bert.encoder.layer.7.attention.self.value.bias', 'bert.pooler.dense.weight', 'bert.encoder.layer.2.output.dense.weight', 'bert.encoder.layer.5.attention.self.key.bias', 'bert.encoder.layer.4.attention.self.value.bias', 'bert.encoder.layer.6.attention.self.value.weight', 'bert.encoder.layer.6.attention.self.value.bias', 'bert.encoder.layer.8.output.LayerNorm.bias', 'bert.encoder.layer.9.attention.self.key.weight', 'cls.predictions.transform.LayerNorm.bias', 'cls.seq_relationship.bias', 'bert.encoder.layer.6.attention.self.key.bias', 'bert.encoder.layer.3.attention.output.dense.bias', 'cls.predictions.decoder.weight', 'bert.encoder.layer.10.output.LayerNorm.weight', 'bert.encoder.layer.2.attention.self.key.bias', 'bert.encoder.layer.0.attention.output.dense.weight', 'bert.encoder.layer.10.output.LayerNorm.bias', 'bert.encoder.layer.10.output.dense.weight', 'bert.encoder.layer.4.output.dense.bias', 'bert.encoder.layer.0.attention.self.key.bias', 'bert.encoder.layer.0.output.LayerNorm.weight', 'bert.encoder.layer.8.attention.output.LayerNorm.bias', 'bert.encoder.layer.5.output.LayerNorm.weight', 'bert.encoder.layer.8.output.dense.weight', 'bert.encoder.layer.0.output.dense.bias', 'bert.encoder.layer.3.output.dense.weight', 'bert.encoder.layer.1.attention.output.LayerNorm.bias', 'bert.encoder.layer.4.output.LayerNorm.bias', 'bert.encoder.layer.2.attention.self.query.bias', 'bert.encoder.layer.7.attention.output.LayerNorm.weight', 'bert.encoder.layer.0.attention.self.query.bias', 'bert.encoder.layer.4.attention.self.query.bias', 'bert.encoder.layer.9.attention.output.LayerNorm.weight', 'bert.encoder.layer.11.attention.output.LayerNorm.weight', 'bert.encoder.layer.11.output.LayerNorm.bias', 'bert.encoder.layer.11.intermediate.dense.weight', 'bert.encoder.layer.6.attention.output.LayerNorm.weight', 'bert.encoder.layer.9.attention.output.dense.bias', 'bert.encoder.layer.0.intermediate.dense.bias', 'bert.encoder.layer.0.attention.output.dense.bias', 'bert.encoder.layer.11.output.LayerNorm.weight', 'bert.encoder.layer.11.attention.self.key.bias', 'bert.encoder.layer.5.attention.output.dense.bias', 'bert.encoder.layer.0.attention.self.query.weight', 'bert.encoder.layer.4.attention.output.LayerNorm.weight', 'bert.encoder.layer.10.intermediate.dense.weight', 'bert.encoder.layer.11.attention.self.value.bias', 'bert.encoder.layer.3.intermediate.dense.weight', 'bert.encoder.layer.6.attention.output.LayerNorm.bias', 'bert.encoder.layer.2.attention.self.key.weight', 'bert.encoder.layer.3.attention.self.query.weight', 'bert.encoder.layer.6.intermediate.dense.bias', 'bert.encoder.layer.0.attention.self.value.weight', 'cls.predictions.transform.LayerNorm.weight', 'bert.encoder.layer.1.output.LayerNorm.bias', 'bert.encoder.layer.6.output.dense.weight', 'bert.encoder.layer.2.output.LayerNorm.bias', 'bert.encoder.layer.8.output.dense.bias', 'bert.encoder.layer.9.attention.self.query.weight', 'bert.encoder.layer.3.attention.self.value.weight', 'bert.encoder.layer.11.output.dense.weight', 'bert.encoder.layer.8.attention.self.key.bias', 'bert.encoder.layer.1.attention.output.dense.bias', 'bert.encoder.layer.5.attention.self.query.weight', 'bert.encoder.layer.3.intermediate.dense.bias', 'bert.encoder.layer.5.output.dense.bias', 'bert.encoder.layer.9.attention.self.value.bias', 'bert.encoder.layer.9.output.LayerNorm.bias', 'bert.encoder.layer.4.attention.output.LayerNorm.bias', 'bert.encoder.layer.2.intermediate.dense.bias', 'bert.encoder.layer.5.attention.self.value.weight', 'bert.encoder.layer.9.output.dense.bias']\n",
            "- This IS expected if you are initializing IBertForSequenceClassification from the checkpoint of a model trained on another task or with another architecture (e.g. initializing a BertForSequenceClassification model from a BertForPreTraining model).\n",
            "- This IS NOT expected if you are initializing IBertForSequenceClassification from the checkpoint of a model that you expect to be exactly identical (initializing a BertForSequenceClassification model from a BertForSequenceClassification model).\n",
            "Some weights of IBertForSequenceClassification were not initialized from the model checkpoint at NlpHUST/vibert4news-base-cased and are newly initialized: ['encoder.layer.3.attention.self.output_activation.x_min', 'encoder.layer.4.attention.output.dense.weight', 'encoder.layer.0.attention.self.query.bias_integer', 'encoder.layer.3.intermediate.output_activation.act_scaling_factor', 'encoder.layer.4.attention.output.ln_input_act.x_min', 'encoder.layer.10.attention.self.query.fc_scaling_factor', 'encoder.layer.2.intermediate.output_activation.x_max', 'encoder.layer.11.attention.self.value_activation.act_scaling_factor', 'encoder.layer.1.output.LayerNorm.activation.x_min', 'encoder.layer.8.pre_intermediate_act.x_min', 'encoder.layer.2.output.ln_input_act.x_min', 'encoder.layer.0.attention.self.key.fc_scaling_factor', 'encoder.layer.5.attention.self.output_activation.x_min', 'encoder.layer.4.pre_output_act.act_scaling_factor', 'encoder.layer.10.attention.output.dense.fc_scaling_factor', 'encoder.layer.5.attention.self.softmax.act.x_max', 'encoder.layer.11.attention.output.ln_input_act.x_min', 'encoder.layer.5.attention.self.key_activation.x_max', 'embeddings.LayerNorm.weight', 'encoder.layer.9.attention.output.LayerNorm.bias', 'encoder.layer.11.attention.self.value.fc_scaling_factor', 'encoder.layer.7.output.output_activation.act_scaling_factor', 'encoder.layer.7.attention.self.key.bias', 'encoder.layer.8.attention.self.softmax.act.x_max', 'encoder.layer.10.pre_intermediate_act.act_scaling_factor', 'encoder.layer.6.attention.output.dense.weight_integer', 'encoder.layer.4.attention.self.query.weight', 'encoder.layer.9.intermediate.dense.bias', 'encoder.layer.9.attention.self.query_activation.x_max', 'encoder.layer.1.output.output_activation.act_scaling_factor', 'encoder.layer.7.attention.output.LayerNorm.bias', 'encoder.layer.5.output.LayerNorm.bias', 'encoder.layer.4.attention.self.value_activation.x_min', 'encoder.layer.9.attention.self.value.bias_integer', 'encoder.layer.2.attention.self.query.weight', 'encoder.layer.3.output.LayerNorm.weight', 'encoder.layer.10.attention.self.key_activation.act_scaling_factor', 'encoder.layer.5.attention.output.output_activation.x_max', 'encoder.layer.11.output.LayerNorm.weight', 'encoder.layer.10.pre_intermediate_act.x_min', 'encoder.layer.4.attention.self.key_activation.x_min', 'encoder.layer.6.attention.output.LayerNorm.activation.x_min', 'encoder.layer.4.attention.self.query_activation.x_max', 'encoder.layer.6.attention.self.key.weight_integer', 'encoder.layer.7.attention.self.value.weight_integer', 'encoder.layer.7.attention.self.value.bias', 'encoder.layer.11.attention.self.key_activation.act_scaling_factor', 'encoder.layer.11.intermediate.output_activation.x_min', 'encoder.layer.1.attention.output.LayerNorm.weight', 'encoder.layer.4.attention.self.value.bias', 'encoder.layer.6.attention.self.key.fc_scaling_factor', 'encoder.layer.0.pre_output_act.x_max', 'encoder.layer.0.attention.self.output_activation.x_max', 'encoder.layer.3.output.ln_input_act.x_max', 'encoder.layer.8.attention.self.query_activation.x_max', 'encoder.layer.3.attention.output.LayerNorm.bias', 'encoder.layer.3.attention.self.query_activation.act_scaling_factor', 'encoder.layer.9.attention.output.dense.bias', 'encoder.layer.5.intermediate.dense.bias_integer', 'encoder.layer.9.intermediate.dense.bias_integer', 'encoder.layer.5.output.LayerNorm.activation.x_min', 'encoder.layer.2.attention.self.query.bias', 'encoder.layer.11.attention.output.LayerNorm.shift', 'encoder.layer.11.intermediate.dense.bias_integer', 'encoder.layer.11.attention.self.key.bias_integer', 'encoder.layer.9.output.output_activation.x_max', 'encoder.layer.11.pre_intermediate_act.x_max', 'encoder.layer.6.attention.self.value.weight_integer', 'encoder.layer.1.attention.output.output_activation.act_scaling_factor', 'encoder.layer.9.output.dense.weight_integer', 'encoder.layer.4.output.LayerNorm.weight', 'encoder.layer.1.output.LayerNorm.activation.x_max', 'encoder.layer.4.attention.self.key.weight', 'encoder.layer.5.attention.self.query_activation.act_scaling_factor', 'encoder.layer.3.attention.self.value.bias_integer', 'encoder.layer.0.attention.self.key_activation.act_scaling_factor', 'encoder.layer.9.attention.self.output_activation.x_min', 'encoder.layer.7.attention.output.LayerNorm.activation.x_min', 'encoder.layer.0.attention.output.ln_input_act.act_scaling_factor', 'encoder.layer.5.attention.output.LayerNorm.activation.x_min', 'encoder.layer.11.attention.self.value.weight_integer', 'encoder.layer.0.pre_intermediate_act.x_max', 'encoder.layer.1.attention.output.dense.bias', 'encoder.layer.7.attention.output.LayerNorm.weight', 'encoder.layer.9.output.LayerNorm.weight', 'encoder.layer.0.attention.self.key.weight', 'encoder.layer.10.output.LayerNorm.activation.x_min', 'encoder.layer.1.attention.self.query.weight_integer', 'encoder.layer.3.attention.output.LayerNorm.shift', 'encoder.layer.7.output.ln_input_act.x_max', 'encoder.layer.6.intermediate.dense.bias', 'encoder.layer.3.attention.output.dense.weight', 'encoder.layer.4.attention.self.value.bias_integer', 'encoder.layer.8.attention.self.key.bias', 'encoder.layer.2.output.output_activation.act_scaling_factor', 'encoder.layer.11.pre_intermediate_act.act_scaling_factor', 'classifier.dense.weight', 'encoder.layer.8.attention.self.query_activation.x_min', 'embeddings.embeddings_act1.x_min', 'encoder.layer.0.intermediate.dense.weight', 'encoder.layer.5.attention.output.LayerNorm.bias', 'encoder.layer.4.attention.self.softmax.act.x_min', 'encoder.layer.10.attention.output.LayerNorm.activation.act_scaling_factor', 'encoder.layer.4.attention.output.LayerNorm.activation.x_max', 'encoder.layer.1.attention.self.value_activation.x_max', 'encoder.layer.6.output.dense.weight', 'encoder.layer.1.pre_output_act.act_scaling_factor', 'encoder.layer.8.output.output_activation.x_max', 'encoder.layer.0.attention.output.ln_input_act.x_min', 'encoder.layer.1.attention.self.query.fc_scaling_factor', 'encoder.layer.3.attention.self.query_activation.x_max', 'classifier.out_proj.weight', 'encoder.layer.7.output.output_activation.x_min', 'encoder.layer.7.attention.output.dense.weight', 'encoder.layer.9.attention.output.dense.weight_integer', 'encoder.layer.11.attention.self.softmax.act.x_max', 'embeddings.position_embeddings.weight_integer', 'encoder.layer.4.attention.output.dense.fc_scaling_factor', 'encoder.layer.6.attention.self.value_activation.x_min', 'encoder.layer.3.output.LayerNorm.shift', 'encoder.layer.1.attention.self.key.weight_integer', 'encoder.layer.4.attention.output.LayerNorm.shift', 'encoder.layer.5.attention.self.value_activation.x_max', 'encoder.layer.7.attention.self.key.weight_integer', 'encoder.layer.9.attention.output.LayerNorm.activation.act_scaling_factor', 'encoder.layer.11.pre_intermediate_act.x_min', 'encoder.layer.10.attention.output.output_activation.act_scaling_factor', 'encoder.layer.11.output.output_activation.act_scaling_factor', 'encoder.layer.0.attention.self.output_activation.act_scaling_factor', 'encoder.layer.10.output.dense.bias', 'classifier.out_proj.bias', 'encoder.layer.7.pre_intermediate_act.act_scaling_factor', 'encoder.layer.9.attention.self.value_activation.act_scaling_factor', 'encoder.layer.7.attention.self.softmax.act.act_scaling_factor', 'encoder.layer.4.attention.self.query_activation.x_min', 'encoder.layer.2.attention.output.ln_input_act.x_min', 'encoder.layer.0.attention.self.softmax.act.x_max', 'encoder.layer.9.output.dense.fc_scaling_factor', 'encoder.layer.5.attention.self.query.bias_integer', 'encoder.layer.0.attention.output.dense.fc_scaling_factor', 'encoder.layer.2.attention.output.LayerNorm.activation.x_min', 'encoder.layer.0.pre_intermediate_act.act_scaling_factor', 'encoder.layer.1.attention.self.query_activation.act_scaling_factor', 'encoder.layer.11.pre_output_act.x_min', 'encoder.layer.6.attention.output.output_activation.x_min', 'encoder.layer.3.output.output_activation.x_max', 'encoder.layer.10.output.ln_input_act.x_min', 'encoder.layer.1.attention.self.softmax.act.act_scaling_factor', 'encoder.layer.7.intermediate.dense.bias', 'encoder.layer.10.attention.output.output_activation.x_min', 'encoder.layer.2.attention.self.output_activation.act_scaling_factor', 'encoder.layer.1.attention.output.ln_input_act.act_scaling_factor', 'encoder.layer.9.attention.self.value.fc_scaling_factor', 'encoder.layer.4.attention.self.output_activation.x_min', 'encoder.layer.0.attention.output.output_activation.x_min', 'encoder.layer.0.attention.self.query.fc_scaling_factor', 'encoder.layer.7.attention.self.query_activation.x_max', 'encoder.layer.6.attention.self.query.bias', 'encoder.layer.7.intermediate.output_activation.x_max', 'encoder.layer.9.attention.self.output_activation.x_max', 'encoder.layer.0.output.LayerNorm.weight', 'encoder.layer.1.attention.self.key.fc_scaling_factor', 'encoder.layer.1.attention.self.query_activation.x_min', 'encoder.layer.5.attention.self.key.weight', 'encoder.layer.5.attention.output.dense.weight', 'encoder.layer.11.attention.self.output_activation.x_max', 'encoder.layer.6.pre_output_act.x_max', 'encoder.layer.6.attention.self.value_activation.x_max', 'encoder.layer.11.output.LayerNorm.activation.x_min', 'encoder.layer.7.intermediate.dense.bias_integer', 'encoder.layer.9.output.ln_input_act.act_scaling_factor', 'encoder.layer.5.output.LayerNorm.weight', 'encoder.layer.11.attention.output.dense.bias', 'encoder.layer.11.attention.output.ln_input_act.x_max', 'encoder.layer.2.attention.output.LayerNorm.activation.act_scaling_factor', 'encoder.layer.2.pre_intermediate_act.x_max', 'encoder.layer.3.attention.self.query.weight_integer', 'encoder.layer.9.pre_output_act.x_min', 'encoder.layer.2.attention.self.value_activation.x_min', 'encoder.layer.0.attention.self.key.bias_integer', 'encoder.layer.3.attention.self.query.bias_integer', 'encoder.layer.4.output.LayerNorm.activation.x_max', 'encoder.layer.9.attention.self.key.weight', 'encoder.layer.3.intermediate.dense.bias_integer', 'encoder.layer.3.attention.output.ln_input_act.x_max', 'encoder.layer.3.attention.self.value.weight_integer', 'encoder.layer.11.attention.self.key.bias', 'encoder.layer.3.output.dense.weight', 'encoder.layer.10.output.LayerNorm.shift', 'classifier.dense.bias', 'encoder.layer.11.pre_output_act.x_max', 'encoder.layer.11.attention.self.key.fc_scaling_factor', 'encoder.layer.11.attention.self.query_activation.x_min', 'encoder.layer.9.attention.self.output_activation.act_scaling_factor', 'encoder.layer.3.attention.self.softmax.act.x_min', 'encoder.layer.5.attention.self.softmax.act.x_min', 'encoder.layer.7.attention.output.ln_input_act.x_min', 'encoder.layer.3.attention.output.ln_input_act.x_min', 'encoder.layer.4.attention.self.output_activation.act_scaling_factor', 'encoder.layer.1.attention.self.key.bias_integer', 'encoder.layer.9.attention.self.value.weight', 'encoder.layer.11.attention.self.value.weight', 'encoder.layer.0.output.LayerNorm.shift', 'encoder.layer.2.attention.self.query_activation.x_min', 'encoder.layer.6.intermediate.dense.weight', 'encoder.layer.1.pre_intermediate_act.act_scaling_factor', 'encoder.layer.11.attention.output.LayerNorm.activation.act_scaling_factor', 'encoder.layer.9.output.LayerNorm.shift', 'encoder.layer.0.attention.self.query_activation.x_max', 'encoder.layer.0.pre_intermediate_act.x_min', 'encoder.layer.8.attention.output.output_activation.x_min', 'encoder.layer.9.intermediate.output_activation.x_max', 'encoder.layer.1.attention.output.dense.weight', 'encoder.layer.4.pre_intermediate_act.x_min', 'encoder.layer.5.pre_intermediate_act.x_min', 'encoder.layer.1.output.output_activation.x_max', 'encoder.layer.7.attention.output.dense.bias', 'encoder.layer.7.attention.self.output_activation.x_min', 'encoder.layer.0.attention.output.LayerNorm.activation.x_min', 'encoder.layer.2.attention.self.value.weight', 'encoder.layer.5.attention.output.LayerNorm.activation.act_scaling_factor', 'encoder.layer.6.output.LayerNorm.activation.act_scaling_factor', 'encoder.layer.4.attention.output.LayerNorm.activation.x_min', 'encoder.layer.9.output.ln_input_act.x_min', 'encoder.layer.4.output.dense.weight_integer', 'encoder.layer.2.attention.output.dense.weight', 'encoder.layer.10.attention.self.key.weight_integer', 'encoder.layer.9.output.LayerNorm.bias', 'encoder.layer.2.output.LayerNorm.activation.x_min', 'encoder.layer.9.pre_output_act.x_max', 'encoder.layer.3.intermediate.dense.bias', 'encoder.layer.3.attention.self.value_activation.x_min', 'encoder.layer.3.intermediate.output_activation.x_min', 'encoder.layer.6.output.dense.bias', 'encoder.layer.10.output.dense.weight', 'encoder.layer.11.attention.self.query.weight', 'encoder.layer.2.output.LayerNorm.activation.x_max', 'encoder.layer.2.attention.self.query.bias_integer', 'encoder.layer.5.attention.output.LayerNorm.weight', 'encoder.layer.9.attention.output.LayerNorm.activation.x_max', 'encoder.layer.9.output.dense.bias', 'encoder.layer.2.pre_output_act.x_min', 'encoder.layer.8.attention.output.dense.fc_scaling_factor', 'encoder.layer.0.attention.self.query.weight_integer', 'encoder.layer.0.intermediate.dense.bias_integer', 'encoder.layer.10.attention.self.query_activation.act_scaling_factor', 'encoder.layer.1.attention.output.LayerNorm.bias', 'encoder.layer.3.attention.self.softmax.act.act_scaling_factor', 'encoder.layer.5.attention.output.output_activation.act_scaling_factor', 'encoder.layer.5.output.LayerNorm.activation.x_max', 'encoder.layer.11.attention.self.softmax.act.x_min', 'embeddings.word_embeddings.weight', 'encoder.layer.3.attention.self.value.weight', 'encoder.layer.6.output.dense.weight_integer', 'encoder.layer.3.attention.self.value.bias', 'encoder.layer.2.attention.self.value.weight_integer', 'encoder.layer.3.output.dense.weight_integer', 'encoder.layer.10.attention.output.dense.weight', 'encoder.layer.2.attention.output.LayerNorm.bias', 'encoder.layer.11.output.ln_input_act.act_scaling_factor', 'embeddings.output_activation.x_max', 'encoder.layer.4.attention.self.output_activation.x_max', 'encoder.layer.5.attention.self.value.weight_integer', 'encoder.layer.2.attention.self.softmax.act.x_min', 'encoder.layer.5.attention.output.LayerNorm.shift', 'encoder.layer.5.output.ln_input_act.x_max', 'encoder.layer.5.attention.output.dense.weight_integer', 'encoder.layer.9.attention.self.key_activation.x_min', 'encoder.layer.11.attention.self.query.bias_integer', 'encoder.layer.0.output.ln_input_act.act_scaling_factor', 'encoder.layer.8.pre_output_act.x_max', 'encoder.layer.0.intermediate.output_activation.x_min', 'encoder.layer.2.attention.self.key.fc_scaling_factor', 'encoder.layer.1.attention.self.value_activation.act_scaling_factor', 'encoder.layer.0.attention.self.key_activation.x_max', 'encoder.layer.1.pre_intermediate_act.x_min', 'encoder.layer.2.pre_intermediate_act.x_min', 'encoder.layer.5.intermediate.output_activation.x_max', 'encoder.layer.6.attention.self.query.bias_integer', 'encoder.layer.8.output.LayerNorm.shift', 'embeddings.word_embeddings.weight_scaling_factor', 'encoder.layer.0.intermediate.dense.bias', 'encoder.layer.1.attention.self.query.bias', 'embeddings.LayerNorm.activation.x_min', 'encoder.layer.1.output.dense.weight_integer', 'encoder.layer.4.output.ln_input_act.x_max', 'encoder.layer.8.attention.output.dense.bias_integer', 'encoder.layer.9.attention.self.softmax.act.x_max', 'encoder.layer.0.output.LayerNorm.activation.act_scaling_factor', 'encoder.layer.3.attention.output.LayerNorm.activation.x_min', 'encoder.layer.7.attention.self.query.bias', 'embeddings.embeddings_act1.act_scaling_factor', 'encoder.layer.3.output.LayerNorm.activation.act_scaling_factor', 'encoder.layer.5.attention.output.ln_input_act.x_max', 'encoder.layer.5.output.ln_input_act.x_min', 'encoder.layer.8.output.LayerNorm.activation.act_scaling_factor', 'encoder.layer.4.attention.self.key.bias_integer', 'encoder.layer.11.output.dense.weight', 'encoder.layer.4.output.dense.bias_integer', 'encoder.layer.5.intermediate.output_activation.act_scaling_factor', 'encoder.layer.0.attention.self.output_activation.x_min', 'encoder.layer.2.output.LayerNorm.shift', 'encoder.layer.1.attention.self.value.fc_scaling_factor', 'encoder.layer.8.output.LayerNorm.bias', 'encoder.layer.10.attention.output.LayerNorm.activation.x_min', 'encoder.layer.8.intermediate.output_activation.act_scaling_factor', 'encoder.layer.11.output.dense.fc_scaling_factor', 'encoder.layer.5.attention.self.query.bias', 'encoder.layer.3.attention.self.key_activation.act_scaling_factor', 'encoder.layer.10.attention.output.dense.weight_integer', 'encoder.layer.0.attention.self.value.bias_integer', 'encoder.layer.5.attention.self.key_activation.act_scaling_factor', 'encoder.layer.8.attention.self.key.weight', 'encoder.layer.1.pre_output_act.x_min', 'encoder.layer.11.output.dense.bias_integer', 'encoder.layer.6.attention.self.softmax.act.act_scaling_factor', 'encoder.layer.4.attention.output.dense.weight_integer', 'encoder.layer.6.attention.output.dense.weight', 'encoder.layer.3.attention.self.value_activation.x_max', 'encoder.layer.6.pre_intermediate_act.x_max', 'encoder.layer.11.output.ln_input_act.x_min', 'encoder.layer.6.attention.self.value.bias', 'encoder.layer.6.attention.self.softmax.act.x_min', 'encoder.layer.6.pre_intermediate_act.act_scaling_factor', 'encoder.layer.6.output.dense.fc_scaling_factor', 'encoder.layer.1.attention.self.value.weight_integer', 'embeddings.LayerNorm.activation.act_scaling_factor', 'encoder.layer.7.attention.self.key.bias_integer', 'encoder.layer.1.intermediate.dense.bias', 'encoder.layer.10.intermediate.dense.bias', 'encoder.layer.9.attention.output.output_activation.act_scaling_factor', 'encoder.layer.11.attention.self.value_activation.x_max', 'encoder.layer.5.attention.self.value.bias', 'encoder.layer.11.attention.output.dense.bias_integer', 'encoder.layer.10.output.dense.fc_scaling_factor', 'encoder.layer.3.attention.self.key.bias_integer', 'encoder.layer.9.attention.output.dense.weight', 'encoder.layer.5.attention.self.value_activation.x_min', 'encoder.layer.3.attention.self.query.weight', 'encoder.layer.6.attention.output.LayerNorm.bias', 'encoder.layer.8.attention.self.value.weight', 'encoder.layer.8.output.output_activation.act_scaling_factor', 'encoder.layer.9.attention.output.dense.bias_integer', 'encoder.layer.11.attention.self.key_activation.x_max', 'encoder.layer.2.attention.output.output_activation.act_scaling_factor', 'encoder.layer.7.attention.self.value_activation.x_min', 'encoder.layer.3.attention.self.key_activation.x_min', 'encoder.layer.8.attention.output.LayerNorm.activation.x_max', 'encoder.layer.8.output.output_activation.x_min', 'embeddings.embeddings_act2.x_min', 'encoder.layer.6.intermediate.dense.bias_integer', 'encoder.layer.9.attention.self.softmax.act.x_min', 'encoder.layer.1.attention.self.output_activation.act_scaling_factor', 'encoder.layer.4.attention.self.value.weight', 'encoder.layer.8.attention.output.dense.weight_integer', 'encoder.layer.11.attention.output.LayerNorm.activation.x_max', 'encoder.layer.11.attention.output.output_activation.x_max', 'embeddings.embeddings_act2.x_max', 'encoder.layer.2.attention.output.output_activation.x_min', 'encoder.layer.7.attention.output.ln_input_act.x_max', 'encoder.layer.2.attention.output.dense.bias_integer', 'encoder.layer.1.attention.self.query_activation.x_max', 'encoder.layer.5.attention.self.softmax.act.act_scaling_factor', 'encoder.layer.3.attention.output.LayerNorm.activation.act_scaling_factor', 'encoder.layer.0.attention.output.LayerNorm.activation.x_max', 'encoder.layer.9.pre_intermediate_act.x_max', 'encoder.layer.0.pre_output_act.x_min', 'encoder.layer.2.output.output_activation.x_min', 'encoder.layer.6.attention.output.dense.bias', 'embeddings.LayerNorm.bias', 'encoder.layer.2.attention.self.query.weight_integer', 'embeddings.word_embeddings.weight_integer', 'encoder.layer.3.pre_intermediate_act.act_scaling_factor', 'encoder.layer.8.pre_output_act.act_scaling_factor', 'encoder.layer.1.output.dense.weight', 'encoder.layer.3.output.LayerNorm.bias', 'encoder.layer.6.attention.output.LayerNorm.activation.act_scaling_factor', 'encoder.layer.8.intermediate.dense.bias', 'encoder.layer.8.attention.output.output_activation.act_scaling_factor', 'encoder.layer.8.intermediate.dense.fc_scaling_factor', 'encoder.layer.2.output.output_activation.x_max', 'encoder.layer.2.output.LayerNorm.bias', 'encoder.layer.3.attention.self.query.bias', 'encoder.layer.3.attention.output.output_activation.x_min', 'encoder.layer.7.attention.self.value.fc_scaling_factor', 'encoder.layer.8.output.ln_input_act.x_max', 'encoder.layer.1.attention.self.output_activation.x_max', 'encoder.layer.9.attention.self.value.weight_integer', 'encoder.layer.4.attention.output.ln_input_act.act_scaling_factor', 'encoder.layer.9.attention.self.key_activation.x_max', 'encoder.layer.5.output.output_activation.x_min', 'encoder.layer.7.intermediate.output_activation.x_min', 'encoder.layer.7.output.LayerNorm.activation.x_min', 'encoder.layer.4.attention.output.LayerNorm.activation.act_scaling_factor', 'encoder.layer.7.pre_intermediate_act.x_max', 'encoder.layer.10.attention.self.output_activation.act_scaling_factor', 'encoder.layer.5.output.LayerNorm.activation.act_scaling_factor', 'encoder.layer.11.attention.self.query.fc_scaling_factor', 'encoder.layer.11.attention.self.output_activation.act_scaling_factor', 'encoder.layer.0.output.dense.bias_integer', 'encoder.layer.11.output.output_activation.x_min', 'encoder.layer.3.pre_intermediate_act.x_max', 'encoder.layer.3.pre_output_act.x_max', 'encoder.layer.6.output.dense.bias_integer', 'encoder.layer.2.attention.output.dense.fc_scaling_factor', 'encoder.layer.0.attention.output.dense.weight', 'encoder.layer.11.attention.output.LayerNorm.activation.x_min', 'encoder.layer.10.intermediate.dense.weight_integer', 'encoder.layer.5.attention.self.value.fc_scaling_factor', 'encoder.layer.6.attention.output.LayerNorm.weight', 'encoder.layer.1.output.ln_input_act.x_max', 'encoder.layer.7.intermediate.dense.weight_integer', 'encoder.layer.7.attention.self.query_activation.act_scaling_factor', 'encoder.layer.3.output.LayerNorm.activation.x_min', 'encoder.layer.11.attention.self.softmax.act.act_scaling_factor', 'encoder.layer.7.pre_output_act.act_scaling_factor', 'encoder.layer.10.attention.self.key.bias_integer', 'encoder.layer.10.intermediate.dense.fc_scaling_factor', 'encoder.layer.11.attention.self.key_activation.x_min', 'encoder.layer.2.attention.self.key_activation.x_max', 'encoder.layer.0.intermediate.output_activation.act_scaling_factor', 'encoder.layer.6.intermediate.output_activation.x_min', 'encoder.layer.1.attention.self.key.weight', 'encoder.layer.5.output.dense.weight', 'encoder.layer.3.attention.output.ln_input_act.act_scaling_factor', 'encoder.layer.8.intermediate.dense.bias_integer', 'encoder.layer.5.pre_output_act.x_max', 'encoder.layer.9.output.LayerNorm.activation.x_min', 'encoder.layer.0.attention.self.value_activation.x_min', 'encoder.layer.4.pre_intermediate_act.act_scaling_factor', 'encoder.layer.11.attention.self.output_activation.x_min', 'encoder.layer.7.attention.self.output_activation.x_max', 'encoder.layer.0.attention.self.key_activation.x_min', 'encoder.layer.1.intermediate.output_activation.x_max', 'encoder.layer.7.attention.output.dense.weight_integer', 'encoder.layer.1.intermediate.output_activation.act_scaling_factor', 'encoder.layer.6.attention.self.value.weight', 'encoder.layer.10.attention.output.LayerNorm.weight', 'encoder.layer.1.attention.self.value.weight', 'encoder.layer.5.output.dense.bias', 'encoder.layer.7.attention.output.output_activation.x_min', 'encoder.layer.9.attention.output.LayerNorm.shift', 'encoder.layer.10.attention.self.value.bias_integer', 'encoder.layer.5.output.dense.fc_scaling_factor', 'encoder.layer.11.output.LayerNorm.shift', 'encoder.layer.8.attention.self.query.bias', 'encoder.layer.10.intermediate.output_activation.x_max', 'encoder.layer.8.output.ln_input_act.act_scaling_factor', 'encoder.layer.0.output.LayerNorm.bias', 'encoder.layer.2.intermediate.dense.fc_scaling_factor', 'encoder.layer.7.intermediate.output_activation.act_scaling_factor', 'encoder.layer.7.attention.self.key.fc_scaling_factor', 'encoder.layer.1.intermediate.dense.bias_integer', 'encoder.layer.1.output.output_activation.x_min', 'encoder.layer.2.intermediate.output_activation.act_scaling_factor', 'encoder.layer.7.pre_output_act.x_min', 'encoder.layer.11.output.LayerNorm.bias', 'encoder.layer.9.intermediate.output_activation.x_min', 'encoder.layer.6.attention.output.LayerNorm.activation.x_max', 'encoder.layer.3.attention.self.output_activation.x_max', 'encoder.layer.5.attention.self.query.fc_scaling_factor', 'encoder.layer.4.attention.self.query.bias', 'encoder.layer.7.attention.self.key_activation.act_scaling_factor', 'encoder.layer.9.attention.self.query_activation.act_scaling_factor', 'encoder.layer.9.pre_intermediate_act.act_scaling_factor', 'encoder.layer.11.attention.self.value.bias_integer', 'embeddings.LayerNorm.shift', 'encoder.layer.9.attention.self.query.bias', 'encoder.layer.10.intermediate.output_activation.act_scaling_factor', 'encoder.layer.10.attention.self.key.bias', 'encoder.layer.2.attention.self.softmax.act.x_max', 'encoder.layer.6.attention.self.value_activation.act_scaling_factor', 'encoder.layer.7.attention.output.dense.fc_scaling_factor', 'encoder.layer.7.attention.self.output_activation.act_scaling_factor', 'encoder.layer.0.intermediate.output_activation.x_max', 'encoder.layer.10.attention.output.LayerNorm.activation.x_max', 'encoder.layer.9.intermediate.dense.fc_scaling_factor', 'encoder.layer.1.attention.self.value_activation.x_min', 'encoder.layer.2.attention.output.output_activation.x_max', 'encoder.layer.1.output.LayerNorm.weight', 'encoder.layer.7.pre_intermediate_act.x_min', 'encoder.layer.8.pre_intermediate_act.act_scaling_factor', 'encoder.layer.4.output.dense.weight', 'encoder.layer.3.output.LayerNorm.activation.x_max', 'encoder.layer.7.attention.self.key_activation.x_min', 'encoder.layer.8.attention.self.query.bias_integer', 'encoder.layer.0.attention.self.query_activation.act_scaling_factor', 'encoder.layer.1.attention.output.ln_input_act.x_max', 'encoder.layer.8.output.dense.weight', 'encoder.layer.4.intermediate.output_activation.x_max', 'encoder.layer.8.output.dense.bias', 'encoder.layer.6.attention.self.query.weight_integer', 'encoder.layer.6.pre_output_act.act_scaling_factor', 'encoder.layer.1.attention.self.value.bias_integer', 'encoder.layer.8.output.dense.fc_scaling_factor', 'encoder.layer.7.output.LayerNorm.shift', 'encoder.layer.9.output.dense.weight', 'encoder.layer.9.attention.output.ln_input_act.x_min', 'encoder.layer.4.attention.self.query.weight_integer', 'encoder.layer.4.output.dense.fc_scaling_factor', 'encoder.layer.3.attention.output.dense.bias_integer', 'encoder.layer.11.attention.self.query.weight_integer', 'encoder.layer.2.output.LayerNorm.activation.act_scaling_factor', 'encoder.layer.2.attention.self.query_activation.x_max', 'encoder.layer.2.attention.self.value_activation.x_max', 'encoder.layer.6.attention.self.query_activation.x_max', 'encoder.layer.2.intermediate.dense.weight_integer', 'encoder.layer.8.attention.self.key.bias_integer', 'encoder.layer.2.attention.self.key.bias_integer', 'encoder.layer.10.attention.self.output_activation.x_min', 'embeddings.embeddings_act2.act_scaling_factor', 'encoder.layer.8.intermediate.dense.weight', 'encoder.layer.10.attention.output.LayerNorm.shift', 'encoder.layer.7.output.dense.weight', 'encoder.layer.5.attention.self.key_activation.x_min', 'encoder.layer.9.output.output_activation.x_min', 'encoder.layer.10.attention.output.ln_input_act.act_scaling_factor', 'encoder.layer.11.intermediate.output_activation.x_max', 'encoder.layer.0.output.dense.bias', 'encoder.layer.5.attention.self.value.weight', 'encoder.layer.10.attention.output.dense.bias', 'encoder.layer.10.pre_output_act.x_max', 'encoder.layer.9.intermediate.output_activation.act_scaling_factor', 'encoder.layer.6.output.LayerNorm.shift', 'encoder.layer.11.output.LayerNorm.activation.act_scaling_factor', 'encoder.layer.2.output.dense.bias', 'encoder.layer.10.output.LayerNorm.activation.x_max', 'encoder.layer.1.output.dense.bias', 'encoder.layer.6.attention.output.ln_input_act.act_scaling_factor', 'encoder.layer.4.output.ln_input_act.x_min', 'encoder.layer.8.output.dense.bias_integer', 'encoder.layer.8.intermediate.output_activation.x_min', 'encoder.layer.3.attention.self.output_activation.act_scaling_factor', 'encoder.layer.0.attention.output.dense.bias', 'encoder.layer.0.attention.output.LayerNorm.weight', 'encoder.layer.3.attention.output.output_activation.act_scaling_factor', 'encoder.layer.8.intermediate.dense.weight_integer', 'encoder.layer.4.output.output_activation.x_min', 'encoder.layer.5.attention.self.output_activation.x_max', 'encoder.layer.5.attention.self.query_activation.x_min', 'encoder.layer.1.attention.self.query.weight', 'encoder.layer.8.attention.self.value_activation.act_scaling_factor', 'encoder.layer.0.attention.output.output_activation.x_max', 'encoder.layer.9.attention.self.value.bias', 'encoder.layer.2.attention.output.ln_input_act.x_max', 'encoder.layer.7.attention.self.query_activation.x_min', 'embeddings.LayerNorm.activation.x_max', 'encoder.layer.5.attention.self.query.weight', 'encoder.layer.7.attention.self.value.weight', 'encoder.layer.6.attention.output.output_activation.act_scaling_factor', 'encoder.layer.0.output.dense.weight', 'encoder.layer.11.attention.output.output_activation.act_scaling_factor', 'encoder.layer.4.attention.output.LayerNorm.weight', 'encoder.layer.7.attention.output.LayerNorm.shift', 'encoder.layer.2.output.dense.weight', 'encoder.layer.1.pre_intermediate_act.x_max', 'encoder.layer.10.attention.output.ln_input_act.x_min', 'encoder.layer.5.attention.self.key.bias', 'encoder.layer.1.attention.self.softmax.act.x_min', 'encoder.layer.5.attention.self.query.weight_integer', 'encoder.layer.9.attention.self.key.weight_integer', 'encoder.layer.0.attention.self.value_activation.act_scaling_factor', 'encoder.layer.6.attention.self.key_activation.x_max', 'encoder.layer.2.pre_output_act.act_scaling_factor', 'encoder.layer.5.attention.output.LayerNorm.activation.x_max', 'encoder.layer.5.pre_output_act.act_scaling_factor', 'encoder.layer.3.output.output_activation.act_scaling_factor', 'encoder.layer.3.pre_output_act.act_scaling_factor', 'encoder.layer.3.intermediate.output_activation.x_max', 'encoder.layer.0.attention.self.value_activation.x_max', 'encoder.layer.4.pre_intermediate_act.x_max', 'encoder.layer.7.attention.self.value_activation.x_max', 'encoder.layer.2.attention.self.key_activation.act_scaling_factor', 'encoder.layer.2.attention.self.key_activation.x_min', 'encoder.layer.6.output.ln_input_act.act_scaling_factor', 'encoder.layer.8.attention.self.output_activation.x_min', 'encoder.layer.11.attention.self.query_activation.x_max', 'encoder.layer.4.intermediate.output_activation.act_scaling_factor', 'encoder.layer.10.output.LayerNorm.bias', 'encoder.layer.8.attention.self.softmax.act.x_min', 'encoder.layer.10.attention.self.value_activation.x_min', 'encoder.layer.2.attention.self.output_activation.x_max', 'encoder.layer.3.attention.output.dense.fc_scaling_factor', 'encoder.layer.5.attention.self.value_activation.act_scaling_factor', 'encoder.layer.6.output.output_activation.x_max', 'encoder.layer.7.attention.self.value.bias_integer', 'encoder.layer.8.attention.self.key_activation.x_min', 'encoder.layer.9.attention.output.output_activation.x_max', 'encoder.layer.10.attention.self.value_activation.x_max', 'encoder.layer.2.attention.self.value.fc_scaling_factor', 'encoder.layer.1.attention.output.dense.fc_scaling_factor', 'encoder.layer.6.attention.output.ln_input_act.x_max', 'encoder.layer.8.attention.output.LayerNorm.shift', 'encoder.layer.11.intermediate.dense.fc_scaling_factor', 'encoder.layer.1.attention.output.dense.bias_integer', 'encoder.layer.11.intermediate.output_activation.act_scaling_factor', 'encoder.layer.3.attention.self.key.bias', 'encoder.layer.6.attention.self.key.weight', 'encoder.layer.1.output.ln_input_act.x_min', 'encoder.layer.9.attention.self.key.bias_integer', 'encoder.layer.10.intermediate.dense.bias_integer', 'embeddings.embeddings_act1.x_max', 'encoder.layer.11.output.dense.bias', 'encoder.layer.7.output.LayerNorm.activation.act_scaling_factor', 'embeddings.position_embeddings.weight', 'encoder.layer.5.output.output_activation.act_scaling_factor', 'encoder.layer.11.attention.self.value.bias', 'encoder.layer.3.intermediate.dense.weight', 'encoder.layer.5.intermediate.dense.weight_integer', 'embeddings.token_type_embeddings.weight_integer', 'encoder.layer.5.attention.output.ln_input_act.x_min', 'encoder.layer.6.attention.self.value.fc_scaling_factor', 'encoder.layer.8.attention.output.LayerNorm.bias', 'encoder.layer.11.attention.self.value_activation.x_min', 'encoder.layer.5.attention.self.key.weight_integer', 'encoder.layer.5.pre_output_act.x_min', 'encoder.layer.6.attention.output.dense.bias_integer', 'encoder.layer.8.attention.output.dense.weight', 'encoder.layer.9.pre_output_act.act_scaling_factor', 'encoder.layer.7.output.LayerNorm.weight', 'encoder.layer.10.intermediate.output_activation.x_min', 'encoder.layer.2.intermediate.dense.weight', 'encoder.layer.6.output.output_activation.act_scaling_factor', 'encoder.layer.11.intermediate.dense.bias', 'encoder.layer.1.attention.output.dense.weight_integer', 'encoder.layer.8.attention.self.key.weight_integer', 'encoder.layer.8.attention.self.output_activation.act_scaling_factor', 'encoder.layer.9.attention.self.value_activation.x_max', 'encoder.layer.7.attention.output.dense.bias_integer', 'encoder.layer.3.attention.self.value_activation.act_scaling_factor', 'encoder.layer.7.output.dense.bias', 'encoder.layer.4.pre_output_act.x_max', 'encoder.layer.0.output.dense.fc_scaling_factor', 'encoder.layer.7.pre_output_act.x_max', 'encoder.layer.9.attention.output.output_activation.x_min', 'encoder.layer.10.attention.self.softmax.act.x_min', 'encoder.layer.4.intermediate.dense.weight_integer', 'encoder.layer.7.attention.self.softmax.act.x_max', 'encoder.layer.9.attention.output.ln_input_act.x_max', 'encoder.layer.1.attention.self.output_activation.x_min', 'encoder.layer.4.attention.output.output_activation.x_max', 'encoder.layer.5.attention.output.ln_input_act.act_scaling_factor', 'encoder.layer.0.output.ln_input_act.x_min', 'encoder.layer.4.attention.output.output_activation.x_min', 'encoder.layer.3.attention.output.output_activation.x_max', 'encoder.layer.6.attention.self.key_activation.act_scaling_factor', 'encoder.layer.2.pre_intermediate_act.act_scaling_factor', 'encoder.layer.8.attention.self.output_activation.x_max', 'encoder.layer.8.attention.output.ln_input_act.act_scaling_factor', 'encoder.layer.10.attention.self.key_activation.x_min', 'encoder.layer.7.output.LayerNorm.activation.x_max', 'encoder.layer.6.attention.output.ln_input_act.x_min', 'encoder.layer.4.intermediate.dense.fc_scaling_factor', 'encoder.layer.0.attention.output.LayerNorm.activation.act_scaling_factor', 'encoder.layer.3.pre_output_act.x_min', 'encoder.layer.11.attention.self.query_activation.act_scaling_factor', 'embeddings.output_activation.x_min', 'encoder.layer.11.output.output_activation.x_max', 'encoder.layer.3.attention.output.LayerNorm.weight', 'encoder.layer.8.attention.self.query.weight', 'encoder.layer.4.intermediate.dense.bias_integer', 'encoder.layer.9.attention.self.value_activation.x_min', 'encoder.layer.8.attention.self.value_activation.x_min', 'encoder.layer.3.attention.output.dense.bias', 'encoder.layer.9.attention.self.key.bias', 'encoder.layer.7.attention.self.query.bias_integer', 'encoder.layer.0.output.output_activation.x_max', 'encoder.layer.4.output.output_activation.act_scaling_factor', 'encoder.layer.8.output.LayerNorm.activation.x_max', 'encoder.layer.7.output.output_activation.x_max', 'encoder.layer.9.attention.self.key.fc_scaling_factor', 'encoder.layer.3.attention.self.query.fc_scaling_factor', 'encoder.layer.0.attention.output.dense.bias_integer', 'encoder.layer.2.attention.self.value.bias_integer', 'encoder.layer.6.output.ln_input_act.x_min', 'encoder.layer.2.output.dense.weight_integer', 'encoder.layer.3.output.dense.bias', 'embeddings.output_activation.act_scaling_factor', 'encoder.layer.3.output.dense.fc_scaling_factor', 'encoder.layer.5.attention.self.output_activation.act_scaling_factor', 'encoder.layer.2.attention.output.LayerNorm.activation.x_max', 'encoder.layer.6.attention.output.LayerNorm.shift', 'encoder.layer.1.attention.self.key_activation.x_max', 'encoder.layer.9.output.output_activation.act_scaling_factor', 'encoder.layer.10.pre_output_act.x_min', 'encoder.layer.6.attention.self.output_activation.x_min', 'embeddings.token_type_embeddings.weight_scaling_factor', 'encoder.layer.10.attention.output.dense.bias_integer', 'encoder.layer.10.attention.self.value.weight_integer', 'encoder.layer.10.pre_intermediate_act.x_max', 'encoder.layer.3.intermediate.dense.weight_integer', 'encoder.layer.4.attention.self.value.fc_scaling_factor', 'encoder.layer.7.output.ln_input_act.x_min', 'encoder.layer.4.intermediate.output_activation.x_min', 'encoder.layer.6.pre_output_act.x_min', 'encoder.layer.10.attention.self.key.weight', 'encoder.layer.5.pre_intermediate_act.x_max', 'encoder.layer.0.output.ln_input_act.x_max', 'encoder.layer.8.output.dense.weight_integer', 'encoder.layer.10.output.LayerNorm.weight', 'encoder.layer.6.attention.self.query.weight', 'encoder.layer.8.attention.output.ln_input_act.x_min', 'encoder.layer.3.attention.self.softmax.act.x_max', 'encoder.layer.3.attention.self.key.weight_integer', 'encoder.layer.1.attention.output.ln_input_act.x_min', 'encoder.layer.6.intermediate.dense.weight_integer', 'encoder.layer.6.output.LayerNorm.activation.x_max', 'encoder.layer.4.output.LayerNorm.shift', 'encoder.layer.1.output.dense.bias_integer', 'encoder.layer.2.intermediate.dense.bias', 'encoder.layer.6.output.LayerNorm.activation.x_min', 'encoder.layer.6.output.LayerNorm.bias', 'encoder.layer.1.intermediate.dense.weight_integer', 'encoder.layer.0.intermediate.dense.fc_scaling_factor', 'encoder.layer.6.attention.self.softmax.act.x_max', 'encoder.layer.3.attention.self.query_activation.x_min', 'encoder.layer.9.intermediate.dense.weight', 'encoder.layer.5.output.ln_input_act.act_scaling_factor', 'encoder.layer.3.attention.self.key.weight', 'encoder.layer.3.output.ln_input_act.x_min', 'encoder.layer.0.attention.self.key.bias', 'encoder.layer.4.intermediate.dense.bias', 'encoder.layer.8.attention.self.softmax.act.act_scaling_factor', 'encoder.layer.3.output.ln_input_act.act_scaling_factor', 'encoder.layer.4.output.LayerNorm.activation.x_min', 'encoder.layer.6.attention.self.key.bias_integer', 'encoder.layer.9.attention.output.LayerNorm.activation.x_min', 'encoder.layer.6.attention.self.key.bias', 'encoder.layer.10.output.ln_input_act.act_scaling_factor', 'encoder.layer.11.output.LayerNorm.activation.x_max', 'encoder.layer.0.attention.self.query_activation.x_min', 'encoder.layer.0.output.output_activation.x_min', 'encoder.layer.9.attention.self.query.fc_scaling_factor', 'encoder.layer.6.intermediate.output_activation.x_max', 'encoder.layer.7.output.ln_input_act.act_scaling_factor', 'encoder.layer.0.attention.self.value.weight', 'encoder.layer.2.attention.self.value.bias', 'encoder.layer.3.attention.self.value.fc_scaling_factor', 'encoder.layer.11.attention.self.key.weight_integer', 'encoder.layer.1.attention.self.key_activation.act_scaling_factor', 'encoder.layer.1.output.LayerNorm.bias', 'encoder.layer.11.output.ln_input_act.x_max', 'encoder.layer.11.attention.self.query.bias', 'encoder.layer.11.output.dense.weight_integer', 'encoder.layer.0.attention.output.dense.weight_integer', 'encoder.layer.7.attention.output.LayerNorm.activation.act_scaling_factor', 'encoder.layer.7.intermediate.dense.fc_scaling_factor', 'encoder.layer.6.pre_intermediate_act.x_min', 'encoder.layer.0.output.LayerNorm.activation.x_max', 'encoder.layer.9.output.dense.bias_integer', 'encoder.layer.10.attention.self.softmax.act.act_scaling_factor', 'encoder.layer.2.intermediate.dense.bias_integer', 'encoder.layer.2.output.dense.fc_scaling_factor', 'encoder.layer.8.attention.self.key_activation.x_max', 'encoder.layer.10.attention.output.LayerNorm.bias', 'encoder.layer.5.attention.output.dense.fc_scaling_factor', 'encoder.layer.2.attention.self.output_activation.x_min', 'encoder.layer.10.output.LayerNorm.activation.act_scaling_factor', 'encoder.layer.5.attention.output.dense.bias', 'encoder.layer.7.attention.self.query.weight', 'encoder.layer.9.attention.output.dense.fc_scaling_factor', 'encoder.layer.10.attention.self.query.bias', 'encoder.layer.4.attention.output.output_activation.act_scaling_factor', 'encoder.layer.6.attention.self.output_activation.act_scaling_factor', 'encoder.layer.0.attention.output.LayerNorm.shift', 'encoder.layer.4.attention.output.dense.bias', 'encoder.layer.5.attention.output.output_activation.x_min', 'encoder.layer.6.attention.self.value.bias_integer', 'encoder.layer.8.attention.self.query_activation.act_scaling_factor', 'encoder.layer.9.output.LayerNorm.activation.x_max', 'encoder.layer.8.attention.self.query.weight_integer', 'encoder.layer.8.output.ln_input_act.x_min', 'encoder.layer.5.intermediate.dense.bias', 'encoder.layer.4.attention.self.value.weight_integer', 'encoder.layer.7.attention.self.key.weight', 'encoder.layer.3.output.output_activation.x_min', 'encoder.layer.6.intermediate.output_activation.act_scaling_factor', 'encoder.layer.7.attention.self.softmax.act.x_min', 'encoder.layer.9.output.LayerNorm.activation.act_scaling_factor', 'encoder.layer.11.intermediate.dense.weight_integer', 'encoder.layer.6.output.ln_input_act.x_max', 'encoder.layer.11.attention.self.key.weight', 'encoder.layer.7.output.dense.weight_integer', 'encoder.layer.7.attention.output.output_activation.x_max', 'encoder.layer.8.output.LayerNorm.activation.x_min', 'encoder.layer.11.attention.output.output_activation.x_min', 'encoder.layer.2.attention.self.softmax.act.act_scaling_factor', 'encoder.layer.10.output.dense.weight_integer', 'encoder.layer.5.attention.self.key.bias_integer', 'encoder.layer.10.attention.self.value.fc_scaling_factor', 'encoder.layer.0.pre_output_act.act_scaling_factor', 'encoder.layer.10.attention.self.value_activation.act_scaling_factor', 'encoder.layer.5.intermediate.output_activation.x_min', 'encoder.layer.4.attention.self.key_activation.act_scaling_factor', 'encoder.layer.8.attention.output.output_activation.x_max', 'encoder.layer.4.attention.self.query_activation.act_scaling_factor', 'encoder.layer.7.attention.output.ln_input_act.act_scaling_factor', 'encoder.layer.0.attention.self.value.fc_scaling_factor', 'encoder.layer.1.attention.self.query.bias_integer', 'encoder.layer.1.attention.output.LayerNorm.activation.x_min', 'encoder.layer.2.attention.self.key.bias', 'encoder.layer.2.pre_output_act.x_max', 'encoder.layer.10.intermediate.dense.weight', 'encoder.layer.7.attention.output.output_activation.act_scaling_factor', 'encoder.layer.2.intermediate.output_activation.x_min', 'encoder.layer.4.attention.self.key.weight_integer', 'encoder.layer.2.attention.output.dense.bias', 'encoder.layer.0.attention.self.softmax.act.act_scaling_factor', 'encoder.layer.11.intermediate.dense.weight', 'encoder.layer.7.intermediate.dense.weight', 'encoder.layer.10.attention.self.query_activation.x_max', 'encoder.layer.1.attention.self.key_activation.x_min', 'encoder.layer.1.intermediate.dense.weight', 'encoder.layer.2.output.LayerNorm.weight', 'encoder.layer.10.attention.self.softmax.act.x_max', 'encoder.layer.1.output.ln_input_act.act_scaling_factor', 'encoder.layer.2.attention.output.LayerNorm.weight', 'encoder.layer.4.attention.self.value_activation.act_scaling_factor', 'encoder.layer.8.attention.output.LayerNorm.activation.act_scaling_factor', 'encoder.layer.5.attention.self.query_activation.x_max', 'encoder.layer.1.attention.self.key.bias', 'encoder.layer.3.output.dense.bias_integer', 'encoder.layer.4.attention.self.query.fc_scaling_factor', 'encoder.layer.9.attention.self.query_activation.x_min', 'encoder.layer.10.attention.self.key.fc_scaling_factor', 'encoder.layer.2.attention.self.key.weight_integer', 'encoder.layer.6.attention.self.query_activation.x_min', 'encoder.layer.8.pre_intermediate_act.x_max', 'encoder.layer.0.intermediate.dense.weight_integer', 'encoder.layer.10.attention.output.output_activation.x_max', 'encoder.layer.5.output.LayerNorm.shift', 'encoder.layer.2.attention.self.query_activation.act_scaling_factor', 'encoder.layer.8.attention.self.value.bias_integer', 'encoder.layer.1.attention.output.LayerNorm.activation.x_max', 'encoder.layer.4.attention.output.ln_input_act.x_max', 'encoder.layer.1.output.dense.fc_scaling_factor', 'encoder.layer.3.attention.output.LayerNorm.activation.x_max', 'encoder.layer.11.attention.output.LayerNorm.weight', 'encoder.layer.4.output.LayerNorm.bias', 'encoder.layer.1.intermediate.dense.fc_scaling_factor', 'encoder.layer.4.attention.self.softmax.act.x_max', 'encoder.layer.10.output.ln_input_act.x_max', 'encoder.layer.4.attention.self.key.bias', 'encoder.layer.6.attention.self.query.fc_scaling_factor', 'encoder.layer.5.attention.self.key.fc_scaling_factor', 'embeddings.position_embeddings.weight_scaling_factor', 'encoder.layer.4.attention.self.value_activation.x_max', 'encoder.layer.6.attention.output.dense.fc_scaling_factor', 'encoder.layer.10.attention.self.value.weight', 'encoder.layer.7.attention.self.key_activation.x_max', 'encoder.layer.9.attention.self.query.weight', 'encoder.layer.7.attention.self.value_activation.act_scaling_factor', 'encoder.layer.0.output.dense.weight_integer', 'encoder.layer.0.attention.output.output_activation.act_scaling_factor', 'encoder.layer.8.output.LayerNorm.weight', 'encoder.layer.0.attention.self.value.bias', 'encoder.layer.8.attention.output.LayerNorm.weight', 'encoder.layer.9.pre_intermediate_act.x_min', 'encoder.layer.5.attention.output.dense.bias_integer', 'encoder.layer.3.attention.self.key.fc_scaling_factor', 'encoder.layer.11.attention.output.ln_input_act.act_scaling_factor', 'encoder.layer.1.attention.self.value.bias', 'encoder.layer.1.attention.output.LayerNorm.shift', 'encoder.layer.9.attention.self.key_activation.act_scaling_factor', 'encoder.layer.9.attention.self.query.bias_integer', 'encoder.layer.0.attention.self.value.weight_integer', 'encoder.layer.4.attention.output.LayerNorm.bias', 'encoder.layer.9.intermediate.dense.weight_integer', 'encoder.layer.2.attention.self.query.fc_scaling_factor', 'encoder.layer.2.attention.self.value_activation.act_scaling_factor', 'encoder.layer.4.attention.self.softmax.act.act_scaling_factor', 'encoder.layer.5.pre_intermediate_act.act_scaling_factor', 'encoder.layer.4.intermediate.dense.weight', 'encoder.layer.5.attention.self.value.bias_integer', 'encoder.layer.9.attention.self.query.weight_integer', 'encoder.layer.0.attention.output.LayerNorm.bias', 'encoder.layer.5.output.output_activation.x_max', 'encoder.layer.4.attention.self.query.bias_integer', 'encoder.layer.10.attention.self.query_activation.x_min', 'encoder.layer.11.attention.output.LayerNorm.bias', 'encoder.layer.11.pre_output_act.act_scaling_factor', 'encoder.layer.1.attention.self.softmax.act.x_max', 'encoder.layer.8.attention.self.query.fc_scaling_factor', 'encoder.layer.10.output.dense.bias_integer', 'encoder.layer.1.attention.output.output_activation.x_max', 'encoder.layer.8.intermediate.output_activation.x_max', 'encoder.layer.8.attention.self.value.weight_integer', 'encoder.layer.9.output.ln_input_act.x_max', 'encoder.layer.10.attention.self.output_activation.x_max', 'encoder.layer.0.output.output_activation.act_scaling_factor', 'encoder.layer.10.attention.output.ln_input_act.x_max', 'encoder.layer.10.output.output_activation.act_scaling_factor', 'encoder.layer.8.attention.self.value_activation.x_max', 'encoder.layer.0.attention.self.query.weight', 'encoder.layer.3.attention.self.key_activation.x_max', 'encoder.layer.4.attention.self.key.fc_scaling_factor', 'encoder.layer.4.pre_output_act.x_min', 'encoder.layer.6.output.LayerNorm.weight', 'encoder.layer.9.attention.output.LayerNorm.weight', 'encoder.layer.10.attention.self.query.bias_integer', 'encoder.layer.5.output.dense.bias_integer', 'encoder.layer.11.attention.output.dense.fc_scaling_factor', 'encoder.layer.2.output.ln_input_act.act_scaling_factor', 'encoder.layer.9.attention.output.ln_input_act.act_scaling_factor', 'encoder.layer.8.attention.self.key.fc_scaling_factor', 'encoder.layer.1.attention.output.output_activation.x_min', 'encoder.layer.3.pre_intermediate_act.x_min', 'encoder.layer.0.attention.self.softmax.act.x_min', 'encoder.layer.1.pre_output_act.x_max', 'encoder.layer.7.attention.self.query.weight_integer', 'encoder.layer.3.attention.output.dense.weight_integer', 'encoder.layer.4.attention.self.key_activation.x_max', 'encoder.layer.3.intermediate.dense.fc_scaling_factor', 'encoder.layer.1.output.LayerNorm.shift', 'encoder.layer.6.attention.self.query_activation.act_scaling_factor', 'encoder.layer.2.attention.self.key.weight', 'encoder.layer.10.attention.self.query.weight_integer', 'encoder.layer.11.attention.output.dense.weight', 'encoder.layer.1.intermediate.output_activation.x_min', 'encoder.layer.8.attention.output.ln_input_act.x_max', 'encoder.layer.5.intermediate.dense.fc_scaling_factor', 'encoder.layer.8.pre_output_act.x_min', 'encoder.layer.2.output.ln_input_act.x_max', 'encoder.layer.8.attention.self.value.bias', 'encoder.layer.2.attention.output.LayerNorm.shift', 'encoder.layer.5.intermediate.dense.weight', 'encoder.layer.2.attention.output.ln_input_act.act_scaling_factor', 'encoder.layer.2.attention.output.dense.weight_integer', 'encoder.layer.2.output.dense.bias_integer', 'encoder.layer.4.output.LayerNorm.activation.act_scaling_factor', 'encoder.layer.8.attention.self.value.fc_scaling_factor', 'encoder.layer.6.attention.self.key_activation.x_min', 'encoder.layer.6.attention.self.output_activation.x_max', 'encoder.layer.0.attention.output.ln_input_act.x_max', 'encoder.layer.10.attention.self.value.bias', 'encoder.layer.6.attention.output.output_activation.x_max', 'encoder.layer.4.attention.output.dense.bias_integer', 'encoder.layer.10.output.output_activation.x_max', 'encoder.layer.6.intermediate.dense.fc_scaling_factor', 'encoder.layer.4.output.dense.bias', 'embeddings.token_type_embeddings.weight', 'encoder.layer.7.attention.output.LayerNorm.activation.x_max', 'encoder.layer.5.output.dense.weight_integer', 'encoder.layer.1.attention.output.LayerNorm.activation.act_scaling_factor', 'encoder.layer.10.pre_output_act.act_scaling_factor', 'encoder.layer.8.attention.self.key_activation.act_scaling_factor', 'encoder.layer.7.output.dense.bias_integer', 'encoder.layer.8.attention.output.LayerNorm.activation.x_min', 'encoder.layer.7.output.dense.fc_scaling_factor', 'encoder.layer.0.attention.self.key.weight_integer', 'encoder.layer.9.attention.self.softmax.act.act_scaling_factor', 'encoder.layer.0.output.LayerNorm.activation.x_min', 'encoder.layer.4.output.ln_input_act.act_scaling_factor', 'encoder.layer.1.output.LayerNorm.activation.act_scaling_factor', 'encoder.layer.7.attention.self.query.fc_scaling_factor', 'encoder.layer.10.attention.self.key_activation.x_max', 'encoder.layer.7.output.LayerNorm.bias', 'encoder.layer.10.output.output_activation.x_min', 'encoder.layer.4.output.output_activation.x_max', 'encoder.layer.10.attention.self.query.weight', 'encoder.layer.8.attention.output.dense.bias', 'encoder.layer.0.attention.self.query.bias', 'encoder.layer.11.attention.output.dense.weight_integer', 'encoder.layer.6.output.output_activation.x_min']\n",
            "You should probably TRAIN this model on a down-stream task to be able to use it for predictions and inference.\n",
            "loading file https://huggingface.co/NlpHUST/vibert4news-base-cased/resolve/main/vocab.txt from cache at /root/.cache/huggingface/transformers/5a6daf02e5f7e53d96fbe143ba9d02c8024da2478427df5b85746730bdd8951c.4085feb573c59c536382d569e34ee6610f508a96bfb5f6cee88767cb675899c3\n",
            "loading file https://huggingface.co/NlpHUST/vibert4news-base-cased/resolve/main/added_tokens.json from cache at None\n",
            "loading file https://huggingface.co/NlpHUST/vibert4news-base-cased/resolve/main/special_tokens_map.json from cache at None\n",
            "loading file https://huggingface.co/NlpHUST/vibert4news-base-cased/resolve/main/tokenizer_config.json from cache at /root/.cache/huggingface/transformers/610c8a887b9bca77c075eb7c5a023fa5ad4a1b69956609cde4a128c2208a2bfe.a21d5897a986b8d1fed966dd1c99dda877a45f1904b91680ccb7cccb9c41a95b\n",
            "loading file https://huggingface.co/NlpHUST/vibert4news-base-cased/resolve/main/tokenizer.json from cache at None\n",
            "loading configuration file https://huggingface.co/NlpHUST/vibert4news-base-cased/resolve/main/config.json from cache at /root/.cache/huggingface/transformers/46dd323249fff6d5e77138474e0b533c3f6c9dd56fea430098410d1418fb8ff5.b9a023ccbf3e5dd443c3f6ec225709ded1fd2ea513add7fbbd20104481407038\n",
            "Model config IBertConfig {\n",
            "  \"architectures\": [\n",
            "    \"BertForMaskedLM\"\n",
            "  ],\n",
            "  \"attention_probs_dropout_prob\": 0.1,\n",
            "  \"bos_token_id\": 0,\n",
            "  \"directionality\": \"bidi\",\n",
            "  \"eos_token_id\": 2,\n",
            "  \"force_dequant\": \"none\",\n",
            "  \"hidden_act\": \"gelu\",\n",
            "  \"hidden_dropout_prob\": 0.1,\n",
            "  \"hidden_size\": 768,\n",
            "  \"initializer_range\": 0.02,\n",
            "  \"intermediate_size\": 3072,\n",
            "  \"layer_norm_eps\": 1e-12,\n",
            "  \"max_position_embeddings\": 512,\n",
            "  \"model_type\": \"ibert\",\n",
            "  \"num_attention_heads\": 12,\n",
            "  \"num_hidden_layers\": 12,\n",
            "  \"pad_token_id\": 1,\n",
            "  \"pooler_fc_size\": 768,\n",
            "  \"pooler_num_attention_heads\": 12,\n",
            "  \"pooler_num_fc_layers\": 3,\n",
            "  \"pooler_size_per_head\": 128,\n",
            "  \"pooler_type\": \"first_token_transform\",\n",
            "  \"position_embedding_type\": \"absolute\",\n",
            "  \"quant_mode\": false,\n",
            "  \"transformers_version\": \"4.12.3\",\n",
            "  \"type_vocab_size\": 2,\n",
            "  \"vocab_size\": 62000\n",
            "}\n",
            "\n",
            "The tokenizer class you load from this checkpoint is not the same type as the class this function is called from. It may result in unexpected tokenization. \n",
            "The tokenizer class you load from this checkpoint is 'RobertaTokenizer'. \n",
            "The class this function is called from is 'BertTokenizer'.\n"
          ]
        }
      ]
    },
    {
      "cell_type": "code",
      "metadata": {
        "id": "WBfGAbnVU3q8",
        "colab": {
          "base_uri": "https://localhost:8080/",
          "height": 630
        },
        "outputId": "df9709db-bd2e-4cd8-a34e-0a88d613c1d2"
      },
      "source": [
        "train_encodings = tokenizer(train_X, truncation=True, padding=True, max_length=100)\n",
        "dev_encodings = tokenizer(dev_X, truncation=True, padding=True, max_length=100)\n",
        "test_encodings = tokenizer(test_X, truncation=True, padding=True, max_length=100)\n",
        "\n",
        "train_dataset = BuildDataset(train_encodings, train_y_spam)\n",
        "dev_dataset = BuildDataset(dev_encodings, dev_y_spam)\n",
        "test_dataset = BuildDataset(test_encodings, test_y_spam)\n",
        "\n",
        "OUTPUT_DIR = os.path.join(MODEL_DIR, 'bert4news', 'task_2')\n",
        "\n",
        "training_args = TrainingArguments(\n",
        "    output_dir= OUTPUT_DIR,\n",
        "    num_train_epochs=2,\n",
        "    per_device_train_batch_size=16,\n",
        "    per_device_eval_batch_size=16,\n",
        "    warmup_steps=500,\n",
        "    weight_decay=0.01,\n",
        "    no_cuda=False,\n",
        "    do_eval=True\n",
        ")\n",
        "\n",
        "trainer = Trainer(\n",
        "    model=model,\n",
        "    args=training_args,\n",
        "    train_dataset=train_dataset,\n",
        "    eval_dataset=dev_dataset\n",
        ")\n",
        "\n",
        "trainer.train()\n",
        "trainer.save_model(OUTPUT_DIR)"
      ],
      "execution_count": null,
      "outputs": [
        {
          "output_type": "stream",
          "name": "stderr",
          "text": [
            "PyTorch: setting up devices\n",
            "The default value for the training argument `--report_to` will change in v5 (from all installed integrations to none). In v5, you will need to use `--report_to all` to get the same behavior as now. You should start updating your code and make this info disappear :-).\n",
            "***** Running training *****\n",
            "  Num examples = 14306\n",
            "  Num Epochs = 2\n",
            "  Instantaneous batch size per device = 16\n",
            "  Total train batch size (w. parallel, distributed & accumulation) = 16\n",
            "  Gradient Accumulation steps = 1\n",
            "  Total optimization steps = 1790\n"
          ]
        },
        {
          "output_type": "display_data",
          "data": {
            "text/html": [
              "\n",
              "    <div>\n",
              "      \n",
              "      <progress value='1790' max='1790' style='width:300px; height:20px; vertical-align: middle;'></progress>\n",
              "      [1790/1790 22:21, Epoch 2/2]\n",
              "    </div>\n",
              "    <table border=\"1\" class=\"dataframe\">\n",
              "  <thead>\n",
              "    <tr style=\"text-align: left;\">\n",
              "      <th>Step</th>\n",
              "      <th>Training Loss</th>\n",
              "    </tr>\n",
              "  </thead>\n",
              "  <tbody>\n",
              "    <tr>\n",
              "      <td>500</td>\n",
              "      <td>0.696400</td>\n",
              "    </tr>\n",
              "    <tr>\n",
              "      <td>1000</td>\n",
              "      <td>0.549300</td>\n",
              "    </tr>\n",
              "    <tr>\n",
              "      <td>1500</td>\n",
              "      <td>0.442800</td>\n",
              "    </tr>\n",
              "  </tbody>\n",
              "</table><p>"
            ],
            "text/plain": [
              "<IPython.core.display.HTML object>"
            ]
          },
          "metadata": {}
        },
        {
          "output_type": "stream",
          "name": "stderr",
          "text": [
            "Saving model checkpoint to /gdrive/MyDrive/FakeCommentDetection/transformer_model/bert4news/task_2/checkpoint-500\n",
            "Configuration saved in /gdrive/MyDrive/FakeCommentDetection/transformer_model/bert4news/task_2/checkpoint-500/config.json\n",
            "Model weights saved in /gdrive/MyDrive/FakeCommentDetection/transformer_model/bert4news/task_2/checkpoint-500/pytorch_model.bin\n",
            "Saving model checkpoint to /gdrive/MyDrive/FakeCommentDetection/transformer_model/bert4news/task_2/checkpoint-1000\n",
            "Configuration saved in /gdrive/MyDrive/FakeCommentDetection/transformer_model/bert4news/task_2/checkpoint-1000/config.json\n",
            "Model weights saved in /gdrive/MyDrive/FakeCommentDetection/transformer_model/bert4news/task_2/checkpoint-1000/pytorch_model.bin\n",
            "Saving model checkpoint to /gdrive/MyDrive/FakeCommentDetection/transformer_model/bert4news/task_2/checkpoint-1500\n",
            "Configuration saved in /gdrive/MyDrive/FakeCommentDetection/transformer_model/bert4news/task_2/checkpoint-1500/config.json\n",
            "Model weights saved in /gdrive/MyDrive/FakeCommentDetection/transformer_model/bert4news/task_2/checkpoint-1500/pytorch_model.bin\n",
            "\n",
            "\n",
            "Training completed. Do not forget to share your model on huggingface.co/models =)\n",
            "\n",
            "\n",
            "Saving model checkpoint to /gdrive/MyDrive/FakeCommentDetection/transformer_model/bert4news/task_2\n",
            "Configuration saved in /gdrive/MyDrive/FakeCommentDetection/transformer_model/bert4news/task_2/config.json\n",
            "Model weights saved in /gdrive/MyDrive/FakeCommentDetection/transformer_model/bert4news/task_2/pytorch_model.bin\n"
          ]
        }
      ]
    },
    {
      "cell_type": "code",
      "metadata": {
        "id": "AkHjRg27U6jN",
        "colab": {
          "base_uri": "https://localhost:8080/",
          "height": 387
        },
        "outputId": "80aea5e7-b238-4502-9867-6e7d6bc1838c"
      },
      "source": [
        "show_predict_result(trainer, test_dataset, test_y_spam, labels_task_2)"
      ],
      "execution_count": null,
      "outputs": [
        {
          "output_type": "stream",
          "name": "stderr",
          "text": [
            "***** Running Prediction *****\n",
            "  Num examples = 3974\n",
            "  Batch size = 16\n"
          ]
        },
        {
          "output_type": "display_data",
          "data": {
            "text/html": [
              "\n",
              "    <div>\n",
              "      \n",
              "      <progress value='249' max='249' style='width:300px; height:20px; vertical-align: middle;'></progress>\n",
              "      [249/249 00:54]\n",
              "    </div>\n",
              "    "
            ],
            "text/plain": [
              "<IPython.core.display.HTML object>"
            ]
          },
          "metadata": {}
        },
        {
          "output_type": "stream",
          "name": "stdout",
          "text": [
            "F1 - micro: 0.8616004026170104\n",
            "F1 - macro: 0.6262327249987143\n",
            "Accuracy: 0.8616004026170105\n"
          ]
        },
        {
          "output_type": "display_data",
          "data": {
            "image/png": "[encoded data removed]",
            "text/plain": [
              "<Figure size 432x288 with 2 Axes>"
            ]
          },
          "metadata": {
            "needs_background": "light"
          }
        }
      ]
    }
  ]
}